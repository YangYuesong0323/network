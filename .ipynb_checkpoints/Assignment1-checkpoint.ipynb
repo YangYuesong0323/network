{
 "cells": [
  {
   "cell_type": "markdown",
   "metadata": {},
   "source": [
    "# Assignment 1"
   ]
  },
  {
   "cell_type": "code",
   "execution_count": 98,
   "metadata": {},
   "outputs": [],
   "source": [
    "import random\n",
    "import numpy as np\n",
    "import matplotlib.pyplot as plt\n",
    "%matplotlib inline\n",
    "import networkx as nx\n",
    "import math\n",
    "from sympy.solvers import solve\n",
    "from sympy import *"
   ]
  },
  {
   "cell_type": "markdown",
   "metadata": {},
   "source": [
    "## Part 1: Binning degree distribution"
   ]
  },
  {
   "cell_type": "markdown",
   "metadata": {},
   "source": [
    "### 1.1 Binning real numbers"
   ]
  },
  {
   "cell_type": "markdown",
   "metadata": {},
   "source": [
    "#### Let's do a gentle start and use the `random` library generate 5000 data points from a Gaussian distribution with $\\mu = 2$ and $\\sigma = 0.125$."
   ]
  },
  {
   "cell_type": "code",
   "execution_count": 5,
   "metadata": {},
   "outputs": [],
   "source": [
    "random_gaussian=[random.gauss(mu=2, sigma=0.125) for i in range(5000)]"
   ]
  },
  {
   "cell_type": "markdown",
   "metadata": {},
   "source": [
    "#### Now, let's use `numpy.histogram` to bin those number into 10 bins. What does the `numpy.histogram` function return? Do the two arrays have the same length?"
   ]
  },
  {
   "cell_type": "code",
   "execution_count": 10,
   "metadata": {},
   "outputs": [],
   "source": [
    "hist=np.histogram(random_gaussian,bins=10)"
   ]
  },
  {
   "cell_type": "code",
   "execution_count": 12,
   "metadata": {},
   "outputs": [
    {
     "data": {
      "text/plain": [
       "tuple"
      ]
     },
     "execution_count": 12,
     "metadata": {},
     "output_type": "execute_result"
    }
   ],
   "source": [
    "type(hist)"
   ]
  },
  {
   "cell_type": "code",
   "execution_count": 14,
   "metadata": {},
   "outputs": [
    {
     "data": {
      "text/plain": [
       "2"
      ]
     },
     "execution_count": 14,
     "metadata": {},
     "output_type": "execute_result"
    }
   ],
   "source": [
    "len(hist)"
   ]
  },
  {
   "cell_type": "markdown",
   "metadata": {},
   "source": [
    "np.histogram returns a tuple of size 2.\n",
    "\n",
    "At index 0, it is the values of the histogram.\n",
    "\n",
    "At index 1, it is the bin edges.\n",
    "\n",
    "See documentation at https://docs.scipy.org/doc/numpy/reference/generated/numpy.histogram.html"
   ]
  },
  {
   "cell_type": "code",
   "execution_count": 20,
   "metadata": {},
   "outputs": [
    {
     "name": "stdout",
     "output_type": "stream",
     "text": [
      "The length of the first array is 10.\n",
      "The length of the second array is 11.\n",
      "No, the two arays do not have the same length.\n"
     ]
    }
   ],
   "source": [
    "heights=hist[0]\n",
    "edges=hist[1]\n",
    "print(\"The length of the first array is {}.\".format(len(heights)))\n",
    "print(\"The length of the second array is {}.\".format(len(edges)))\n",
    "\n",
    "if len(heights) == len(edges):\n",
    "    print(\"Yes, the two arrays have the same length.\")\n",
    "else:\n",
    "    print(\"No, the two arays do not have the same length.\")"
   ]
  },
  {
   "cell_type": "code",
   "execution_count": 22,
   "metadata": {},
   "outputs": [
    {
     "data": {
      "text/plain": [
       "1.587762261801187"
      ]
     },
     "execution_count": 22,
     "metadata": {},
     "output_type": "execute_result"
    }
   ],
   "source": [
    "min(edges)"
   ]
  },
  {
   "cell_type": "code",
   "execution_count": 21,
   "metadata": {},
   "outputs": [
    {
     "data": {
      "text/plain": [
       "array([1.58776226, 1.6826831 , 1.77760393, 1.87252477, 1.9674456 ,\n",
       "       2.06236643, 2.15728727, 2.2522081 , 2.34712894, 2.44204977,\n",
       "       2.53697061])"
      ]
     },
     "execution_count": 21,
     "metadata": {},
     "output_type": "execute_result"
    }
   ],
   "source": [
    "edges"
   ]
  },
  {
   "cell_type": "markdown",
   "metadata": {},
   "source": [
    "#### Then we use `matplotlib.pyplot.plot` to plot the binned data. You will have to deal with the fact that the counts- and bin-arrays have different lengths. Explain how you deal with this problem and why."
   ]
  },
  {
   "cell_type": "markdown",
   "metadata": {},
   "source": [
    "In the edges array, all but the last (righthand-most) bin is half-open. In other words, if bins is: [1,2,3,4]. The bins are [1,2) [2,3) and [3,4].\n",
    "\n",
    "Let the bars in the diagram represent the counts from number A to number B with number B labelled. So our group will only use numbers indexed from 1 to len(edges) of the edges array."
   ]
  },
  {
   "cell_type": "code",
   "execution_count": 34,
   "metadata": {},
   "outputs": [
    {
     "data": {
      "image/png": "[encoded data removed]",
      "text/plain": [
       "<Figure size 432x288 with 1 Axes>"
      ]
     },
     "metadata": {
      "needs_background": "light"
     },
     "output_type": "display_data"
    }
   ],
   "source": [
    "plt.plot(edges[1:],heights, '-o')\n",
    "plt.xlabel(\"Bin\")\n",
    "plt.ylabel(\"Frequency\")\n",
    "plt.title(\"Guassian Plot\")\n",
    "plt.xticks(list(map(lambda x : round(x,2), edges[1:])))\n",
    "plt.show()"
   ]
  },
  {
   "cell_type": "markdown",
   "metadata": {},
   "source": [
    "### 1.2 Bining integers"
   ]
  },
  {
   "cell_type": "markdown",
   "metadata": {},
   "source": [
    "####  Use `numpy.random.poisson` to generate 5000 numbers drawn from a Poisson distribution characterized by $\\lambda = 10$. Find the maximum and minimum value of your 5000 random numbers. "
   ]
  },
  {
   "cell_type": "code",
   "execution_count": 36,
   "metadata": {},
   "outputs": [],
   "source": [
    "random_poisson=[np.random.poisson(lam=10) for i in range(5000)]"
   ]
  },
  {
   "cell_type": "code",
   "execution_count": 39,
   "metadata": {},
   "outputs": [
    {
     "name": "stdout",
     "output_type": "stream",
     "text": [
      "The maximum number value is 22\n",
      "The minimum number value is 0\n"
     ]
    }
   ],
   "source": [
    "max_v=max(random_poisson)\n",
    "min_v=min(random_poisson)\n",
    "print(\"The maximum number value is {}\".format(max_v))\n",
    "print(\"The minimum number value is {}\".format(min_v))"
   ]
  },
  {
   "cell_type": "markdown",
   "metadata": {},
   "source": [
    "#### Instead of simplify specifying the number of bins for `numpy.histogram`, let's specify the bins we want using a vector. Create a vector $v$ that results in a binning that puts each integer value in its own bin and where the first bin contains the minimum number you found above, and the last bin contains the maximum number (you may want to think about how `numpy.histogram` deals with the smallest and largest value in particular; is it correct to set the first entry of $v$ to be equal to the smallest value you observe and the last entry of $v$ to be the highest value observed?). Use the vector by setting `numpy.histogram`'s `bins` parameter as `bins = ` $v$. What is the sum over bin counts? Explain how the binning-vectors first and last element relates to the min and max from the Poisson distribution."
   ]
  },
  {
   "cell_type": "code",
   "execution_count": 51,
   "metadata": {},
   "outputs": [
    {
     "data": {
      "text/plain": [
       "[0, 2.2, 4.4, 6.6, 8.8, 11.0, 13.2, 15.4, 17.6, 19.8, 22.0]"
      ]
     },
     "execution_count": 51,
     "metadata": {},
     "output_type": "execute_result"
    }
   ],
   "source": [
    "step = (max_v - min_v)/10\n",
    "v=[]\n",
    "value=min_v\n",
    "for i in range(11):\n",
    "    v.append(value)\n",
    "    value = round(value + step, 2)\n",
    "v"
   ]
  },
  {
   "cell_type": "markdown",
   "metadata": {},
   "source": [
    "Yes, it is correct to set the first entry to be the smallest value from random possion array and the last entry to be the largest value from random possion array. This is because the bins parameter takes in a monotonically increasing sequence including the rightmost edge."
   ]
  },
  {
   "cell_type": "code",
   "execution_count": 54,
   "metadata": {},
   "outputs": [],
   "source": [
    "hist=np.histogram(random_poisson,bins=v)"
   ]
  },
  {
   "cell_type": "code",
   "execution_count": 55,
   "metadata": {},
   "outputs": [
    {
     "name": "stdout",
     "output_type": "stream",
     "text": [
      "The sum over bin counts is 5000\n"
     ]
    }
   ],
   "source": [
    "summation=sum(hist[0])\n",
    "print(\"The sum over bin counts is {}\".format(summation))"
   ]
  },
  {
   "cell_type": "markdown",
   "metadata": {},
   "source": [
    "The first element from the binning-vector is the smallest value observed from the possion distribution and the last element is the largest value observed. This is to set the boundaries for the bins such that all values are included and in between edges are of equi-distance apart from one another."
   ]
  },
  {
   "cell_type": "markdown",
   "metadata": {},
   "source": [
    "#### Now, use a bar chart (`matplotlib.pyplot.bar`) to plot the distribution "
   ]
  },
  {
   "cell_type": "code",
   "execution_count": 63,
   "metadata": {},
   "outputs": [
    {
     "data": {
      "image/png": "[encoded data removed]",
      "text/plain": [
       "<Figure size 432x288 with 1 Axes>"
      ]
     },
     "metadata": {
      "needs_background": "light"
     },
     "output_type": "display_data"
    }
   ],
   "source": [
    "plt.bar(v[1:], hist[0])\n",
    "plt.xticks(v[1:])\n",
    "plt.xlabel(\"Bin\")\n",
    "plt.ylabel(\"Frequency\")\n",
    "plt.title(\"Possion Plot\")\n",
    "plt.show()"
   ]
  },
  {
   "cell_type": "markdown",
   "metadata": {},
   "source": [
    "### 1.3 Binning and plotting degree distributions"
   ]
  },
  {
   "cell_type": "markdown",
   "metadata": {},
   "source": [
    "#### Let's generate the Erdös-Renyi (ER) network which has a degree distribution that matches the Poisson distribution above. First we have to figure out which values the ER parameters (_N_ and _p_) should assume. It's easy to see that $N = 5000$, but how do you find $p$? \n",
    "**Hint**: The parameter $\\lambda$ in the Poisson distribution corresponds to the average degree, so you have to find a $p$ that results in an average degree, $k = 10$. And you know that $\\langle k \\rangle = p (N-1)$, which will give you $p$."
   ]
  },
  {
   "cell_type": "code",
   "execution_count": 67,
   "metadata": {},
   "outputs": [
    {
     "name": "stdout",
     "output_type": "stream",
     "text": [
      "Probability p == 0.002000400080016003\n"
     ]
    }
   ],
   "source": [
    "N = 5000\n",
    "avg_degree = 10\n",
    "p = avg_degree/(N-1)\n",
    "print(\"Probability p == {}\".format(p))"
   ]
  },
  {
   "cell_type": "markdown",
   "metadata": {},
   "source": [
    "#### Now, use `networkx` to create the graph and extract the degree distribution."
   ]
  },
  {
   "cell_type": "code",
   "execution_count": 68,
   "metadata": {},
   "outputs": [],
   "source": [
    "ER_graph= nx.erdos_renyi_graph(N, p)"
   ]
  },
  {
   "cell_type": "code",
   "execution_count": 78,
   "metadata": {},
   "outputs": [],
   "source": [
    "degree_distribution=[i[1] for i in ER_graph.degree]"
   ]
  },
  {
   "cell_type": "markdown",
   "metadata": {},
   "source": [
    "#### Finally, create a nice bar plot of the degree distribution, including axes labels and a plot title. Make sure that it looks like the Poisson distribution you plotted above."
   ]
  },
  {
   "cell_type": "code",
   "execution_count": 87,
   "metadata": {},
   "outputs": [
    {
     "data": {
      "image/png": "[encoded data removed]",
      "text/plain": [
       "<Figure size 432x288 with 1 Axes>"
      ]
     },
     "metadata": {
      "needs_background": "light"
     },
     "output_type": "display_data"
    }
   ],
   "source": [
    "hist_ER = np.histogram(degree_distribution, bins=10)\n",
    "plt.bar(hist_ER[1][1:],hist_ER[0])\n",
    "plt.xticks(hist_ER[1][1:])\n",
    "plt.xlabel(\"Degree\")\n",
    "plt.ylabel(\"Number of Nodes\")\n",
    "plt.title(\"Degree Distribution Plot\")\n",
    "plt.show()"
   ]
  },
  {
   "cell_type": "markdown",
   "metadata": {},
   "source": [
    "## Part 2: Random networks and plotting in `networkx`"
   ]
  },
  {
   "cell_type": "markdown",
   "metadata": {},
   "source": [
    "### 2.1 In your notebook, work through NS exercise 3.1 ('Erdős-Rényi Networks')."
   ]
  },
  {
   "cell_type": "markdown",
   "metadata": {},
   "source": [
    "#### Consider an Erdos-Renyi network with N=3000 nodes, connected to each other with probability $ p = 10^{-3} $"
   ]
  },
  {
   "cell_type": "code",
   "execution_count": 90,
   "metadata": {},
   "outputs": [],
   "source": [
    "N = 3000\n",
    "p = 0.001"
   ]
  },
  {
   "cell_type": "markdown",
   "metadata": {},
   "source": [
    "#### (a) What is the expected number of links, L?"
   ]
  },
  {
   "cell_type": "code",
   "execution_count": 91,
   "metadata": {},
   "outputs": [
    {
     "name": "stdout",
     "output_type": "stream",
     "text": [
      "The expected number of links is 4498.5\n"
     ]
    }
   ],
   "source": [
    "Expected_Links=N*(N-1)/2 * p\n",
    "print(\"The expected number of links is {}\".format(Expected_Links))"
   ]
  },
  {
   "cell_type": "markdown",
   "metadata": {},
   "source": [
    "#### (b) In which regime is the network?"
   ]
  },
  {
   "cell_type": "code",
   "execution_count": 93,
   "metadata": {},
   "outputs": [
    {
     "name": "stdout",
     "output_type": "stream",
     "text": [
      "supercritical\n"
     ]
    }
   ],
   "source": [
    "avg_degree = 2 * Expected_Links / N\n",
    "\n",
    "if avg_degree > 0 and avg_degree <1:\n",
    "    print(\"subcritical\")\n",
    "elif avg_degree == 1:\n",
    "    print(\"critical\")\n",
    "elif avg_degree > 1:\n",
    "    if avg_degree > math.log(N):\n",
    "        print(\"connected regime\")\n",
    "    else:\n",
    "        print(\"supercritical\")"
   ]
  },
  {
   "cell_type": "markdown",
   "metadata": {},
   "source": [
    "#### (c) Calculate the probability $P_{c}$ so that the network is at the critical point."
   ]
  },
  {
   "cell_type": "code",
   "execution_count": 95,
   "metadata": {},
   "outputs": [
    {
     "name": "stdout",
     "output_type": "stream",
     "text": [
      "0.0003333333333333333\n"
     ]
    }
   ],
   "source": [
    "P_critical = 1 / N\n",
    "print(P_critical)"
   ]
  },
  {
   "cell_type": "markdown",
   "metadata": {},
   "source": [
    "#### (d) Given the linking probability $p = 10^{-3}$, calculate the number of nodes $N^{cr}$ so that the network has only one component."
   ]
  },
  {
   "cell_type": "code",
   "execution_count": 103,
   "metadata": {},
   "outputs": [
    {
     "data": {
      "text/plain": [
       "[1.00100150267189, 9118.00647040274]"
      ]
     },
     "execution_count": 103,
     "metadata": {},
     "output_type": "execute_result"
    }
   ],
   "source": [
    "# only one component happens when the graph is in Connected Regime\n",
    "x = Symbol('x')\n",
    "solve(ln(x)/x - 0.001,x)"
   ]
  },
  {
   "cell_type": "markdown",
   "metadata": {},
   "source": [
    "The number of nodes can be either 1 or 9118. Reject 1 if a single node answer is trivial."
   ]
  },
  {
   "cell_type": "markdown",
   "metadata": {},
   "source": [
    "#### (e) For the network in (d), calculate the average degree $k^{cr}$ and the average distance between two randomly chosen nodes d."
   ]
  },
  {
   "cell_type": "code",
   "execution_count": 110,
   "metadata": {},
   "outputs": [],
   "source": [
    "N = 9118\n",
    "p = 0.001"
   ]
  },
  {
   "cell_type": "code",
   "execution_count": 111,
   "metadata": {},
   "outputs": [
    {
     "name": "stdout",
     "output_type": "stream",
     "text": [
      "average degree is 9.117\n"
     ]
    }
   ],
   "source": [
    "avg_degree=p * (N-1)\n",
    "print(\"average degree is {}\".format(avg_degree))"
   ]
  },
  {
   "cell_type": "code",
   "execution_count": 113,
   "metadata": {},
   "outputs": [
    {
     "name": "stdout",
     "output_type": "stream",
     "text": [
      "average distance is 4.125531617730235\n"
     ]
    }
   ],
   "source": [
    "avg_distance=np.log(N)/np.log(avg_degree)\n",
    "print(\"average distance is {}\".format(avg_distance))"
   ]
  },
  {
   "cell_type": "markdown",
   "metadata": {},
   "source": [
    "#### (f) Calculate the degree distribution $p_{k}$ of the network."
   ]
  },
  {
   "cell_type": "code",
   "execution_count": 117,
   "metadata": {},
   "outputs": [],
   "source": [
    "node_degree=[np.random.poisson(lam=avg_degree) for i in range(5000)]"
   ]
  },
  {
   "cell_type": "code",
   "execution_count": 126,
   "metadata": {},
   "outputs": [
    {
     "data": {
      "image/png": "[encoded data removed]",
      "text/plain": [
       "<Figure size 432x288 with 1 Axes>"
      ]
     },
     "metadata": {
      "needs_background": "light"
     },
     "output_type": "display_data"
    }
   ],
   "source": [
    "hist=np.histogram(node_degree,bins=20)\n",
    "plt.plot(hist[1][1:],hist[0],'-o')\n",
    "plt.title(\"Degree distribution\")\n",
    "plt.show()"
   ]
  },
  {
   "cell_type": "markdown",
   "metadata": {},
   "source": [
    "### 2.2 Paths. Plot a random network with 200 nodes and an average degree of 1.5\\."
   ]
  },
  {
   "cell_type": "code",
   "execution_count": 127,
   "metadata": {},
   "outputs": [],
   "source": [
    "N = 200\n",
    "avg_degree = 1.5\n",
    "p = avg_degree / (N-1)"
   ]
  },
  {
   "cell_type": "code",
   "execution_count": 130,
   "metadata": {},
   "outputs": [],
   "source": [
    "ERGraph= nx.erdos_renyi_graph(N, p)"
   ]
  },
  {
   "cell_type": "code",
   "execution_count": 134,
   "metadata": {},
   "outputs": [
    {
     "data": {
      "image/png": "[encoded data removed]",
      "text/plain": [
       "<Figure size 432x288 with 1 Axes>"
      ]
     },
     "metadata": {},
     "output_type": "display_data"
    }
   ],
   "source": [
    "nx.draw_networkx(ERGraph, node_size=12, with_labels=False)"
   ]
  },
  {
   "cell_type": "markdown",
   "metadata": {},
   "source": [
    "#### Extract the Giant Connected Component, GCC."
   ]
  },
  {
   "cell_type": "code",
   "execution_count": 135,
   "metadata": {},
   "outputs": [],
   "source": [
    "graphs = list(nx.connected_component_subgraphs(ERGraph))\n",
    "GCC=sorted([(g,g.number_of_nodes()) for g in graphs], key = lambda x : x[1])[-1][0]"
   ]
  },
  {
   "cell_type": "markdown",
   "metadata": {},
   "source": [
    "#### Choose a node at random from the GCC."
   ]
  },
  {
   "cell_type": "code",
   "execution_count": 136,
   "metadata": {},
   "outputs": [
    {
     "data": {
      "text/plain": [
       "88"
      ]
     },
     "execution_count": 136,
     "metadata": {},
     "output_type": "execute_result"
    }
   ],
   "source": [
    "node_random=random.choice(list(GCC.nodes))\n",
    "node_random"
   ]
  },
  {
   "cell_type": "markdown",
   "metadata": {},
   "source": [
    "#### Find all nodes that are precisely 2 steps away from that node."
   ]
  },
  {
   "cell_type": "code",
   "execution_count": 139,
   "metadata": {},
   "outputs": [
    {
     "data": {
      "text/plain": [
       "[(39, 2),\n",
       " (197, 2),\n",
       " (124, 2),\n",
       " (16, 2),\n",
       " (78, 2),\n",
       " (79, 2),\n",
       " (94, 2),\n",
       " (166, 2),\n",
       " (40, 2),\n",
       " (92, 2),\n",
       " (162, 2)]"
      ]
     },
     "execution_count": 139,
     "metadata": {},
     "output_type": "execute_result"
    }
   ],
   "source": [
    "neighbor_2=list(filter(lambda x : x[1] ==2, \n",
    "           list(nx.single_source_shortest_path_length(GCC, node_random).items())))\n",
    "neighbor_2"
   ]
  },
  {
   "cell_type": "markdown",
   "metadata": {},
   "source": [
    "#### Plot the GCC with the following choice of colors. Starting node _black_ (\"#000000\"). The nodes 2 steps away _red_ (\"#ff0000\"). All other nodes _blue_ (\"#A0CBE2\")."
   ]
  },
  {
   "cell_type": "code",
   "execution_count": 151,
   "metadata": {},
   "outputs": [],
   "source": [
    "node_list=list(GCC.nodes())\n",
    "color_list=[]\n",
    "for i in node_list:\n",
    "    if i == node_random:\n",
    "        color_list.append(\"#000000\")\n",
    "        continue\n",
    "    if i in [x[0] for x in neighbor_2]:\n",
    "        color_list.append(\"#ff0000\")\n",
    "        continue\n",
    "    color_list.append(\"#A0CBE2\")"
   ]
  },
  {
   "cell_type": "code",
   "execution_count": 160,
   "metadata": {},
   "outputs": [
    {
     "data": {
      "image/png": "[encoded data removed]",
      "text/plain": [
       "<Figure size 432x288 with 1 Axes>"
      ]
     },
     "metadata": {},
     "output_type": "display_data"
    }
   ],
   "source": [
    "nx.draw_spring(GCC, node_size=25, \n",
    "                 with_labels=False, node_color=color_list, \n",
    "                 nodelist=node_list, font_size=7)"
   ]
  },
  {
   "cell_type": "markdown",
   "metadata": {},
   "source": [
    "## Part 3: Watts-Strogatz Networks"
   ]
  },
  {
   "cell_type": "markdown",
   "metadata": {},
   "source": [
    "### 3.1 Use nx.watts_strogatz_graph to generate 3 graphs with 500 nodes each, average degree = 4, and rewiring probablity $p = 0, 0.1, \\textrm{and} 1$. Calculate the average shortest path length $\\langle d \\rangle$ for each one. Describe what happens to the network when $p = 1$."
   ]
  },
  {
   "cell_type": "code",
   "execution_count": 168,
   "metadata": {},
   "outputs": [],
   "source": [
    "G1=nx.watts_strogatz_graph(500, 4, 0)\n",
    "G2=nx.watts_strogatz_graph(500, 4, 0.1)\n",
    "G3=nx.watts_strogatz_graph(500, 4, 1)"
   ]
  },
  {
   "cell_type": "code",
   "execution_count": 169,
   "metadata": {},
   "outputs": [],
   "source": [
    "d1=nx.average_shortest_path_length(G1)\n",
    "d2=nx.average_shortest_path_length(G2)\n",
    "d3=nx.average_shortest_path_length(G3)"
   ]
  },
  {
   "cell_type": "code",
   "execution_count": 179,
   "metadata": {},
   "outputs": [
    {
     "name": "stdout",
     "output_type": "stream",
     "text": [
      "62.875751503006015 7.596553106212425 4.784064128256513\n"
     ]
    }
   ],
   "source": [
    "print(d1,d2,d3)"
   ]
  },
  {
   "cell_type": "code",
   "execution_count": 180,
   "metadata": {},
   "outputs": [
    {
     "data": {
      "text/plain": [
       "4.4828921423310435"
      ]
     },
     "execution_count": 180,
     "metadata": {},
     "output_type": "execute_result"
    }
   ],
   "source": [
    "# average distance in the fully randomized network\n",
    "math.log(500)/math.log(4)"
   ]
  },
  {
   "cell_type": "markdown",
   "metadata": {},
   "source": [
    "When p = 1, the average shortest path length of watts_strogatz_graph is close to that of a fully randomized network."
   ]
  },
  {
   "cell_type": "markdown",
   "metadata": {},
   "source": [
    "### 3.2 Generate 50 networks with $N = 500$, $\\langle k \\rangle = 4$, for each of $p = \\{0, 0.01, 0.03, 0.05, 0.1, 0.2\\}$. Calculate the average of $\\langle d \\rangle$ as well as the standard deviation over the 50 networks, to create a plot that shows how the path length decreases very quickly with only a little fraction of re-wiring. Use the standard deviation to add errorbars to the plot. "
   ]
  },
  {
   "cell_type": "code",
   "execution_count": 181,
   "metadata": {},
   "outputs": [],
   "source": [
    "# get dictionary of p : [d1,d2,...d50]\n",
    "p_list=[0,0.01,0.03,0.05,0.1,0.2]\n",
    "dic={}\n",
    "for p in p_list:\n",
    "    dic[p] = []\n",
    "    for i in range(50):\n",
    "        G=nx.watts_strogatz_graph(500, 4, p)\n",
    "        dic[p].append(nx.average_shortest_path_length(G))"
   ]
  },
  {
   "cell_type": "code",
   "execution_count": 182,
   "metadata": {},
   "outputs": [],
   "source": [
    "# get average and sd for each p\n",
    "avg=[sum(i)/len(i) for i in dic.values()]\n",
    "sd=[np.std(i) for i in dic.values()]"
   ]
  },
  {
   "cell_type": "code",
   "execution_count": 190,
   "metadata": {},
   "outputs": [
    {
     "data": {
      "image/png": "[encoded data removed]",
      "text/plain": [
       "<Figure size 432x288 with 1 Axes>"
      ]
     },
     "metadata": {
      "needs_background": "light"
     },
     "output_type": "display_data"
    }
   ],
   "source": [
    "plt.errorbar(y=avg,x=p_list,ecolor='red',yerr=sd,fmt='o''-''.k')\n",
    "plt.ylabel(\"average distance\")\n",
    "plt.xlabel(\"probability of rewiring\")\n",
    "plt.title('average distance against probability of rewiring')\n",
    "plt.show()"
   ]
  },
  {
   "cell_type": "markdown",
   "metadata": {},
   "source": [
    "## Part 4: The Barabasi-Albert Model"
   ]
  },
  {
   "cell_type": "markdown",
   "metadata": {},
   "source": [
    "### 4.1 Create a 100 node BA network using a BA model that you've coded on your own (so don't use the built-in NetworkX function, but the one you created during week 3). And plot it using NetworkX."
   ]
  },
  {
   "cell_type": "code",
   "execution_count": 191,
   "metadata": {},
   "outputs": [],
   "source": [
    "# start with node 0 and 1, link 0 and 1\n",
    "G=nx.Graph()\n",
    "G.add_nodes_from([0,1])\n",
    "G.add_edges_from([[0,1],])\n",
    "\n",
    "for i in range(2,100):\n",
    "    node=random.choice(np.array(list(G.edges)).flatten()) # proportional\n",
    "    G.add_node(i)\n",
    "    G.add_edge(i,node)"
   ]
  },
  {
   "cell_type": "code",
   "execution_count": 214,
   "metadata": {},
   "outputs": [
    {
     "data": {
      "image/png": "[encoded data removed]",
      "text/plain": [
       "<Figure size 432x288 with 1 Axes>"
      ]
     },
     "metadata": {},
     "output_type": "display_data"
    }
   ],
   "source": [
    "nx.draw_networkx(G,node_size=60,with_labels=False,node_shape='o')"
   ]
  },
  {
   "cell_type": "markdown",
   "metadata": {},
   "source": [
    "### 4.2 Now create a 5000 node network."
   ]
  },
  {
   "cell_type": "code",
   "execution_count": 215,
   "metadata": {},
   "outputs": [],
   "source": [
    "# start with node 0 and 1, link 0 and 1\n",
    "G=nx.Graph()\n",
    "G.add_nodes_from([0,1])\n",
    "G.add_edges_from([[0,1],])\n",
    "\n",
    "for i in range(2,5000):\n",
    "    node=random.choice(np.array(list(G.edges)).flatten()) # proportional\n",
    "    G.add_node(i)\n",
    "    G.add_edge(i,node)"
   ]
  },
  {
   "cell_type": "markdown",
   "metadata": {},
   "source": [
    "#### What's the maximum and minimum degree?"
   ]
  },
  {
   "cell_type": "code",
   "execution_count": 220,
   "metadata": {},
   "outputs": [
    {
     "name": "stdout",
     "output_type": "stream",
     "text": [
      "the maximum degree is 108\n",
      "the minimum degree is 1\n"
     ]
    }
   ],
   "source": [
    "sorting=sorted(list(G.degree()),key=lambda x : x[1],reverse=True)\n",
    "print(\"the maximum degree is {}\".format(sorting[0][1]))\n",
    "print(\"the minimum degree is {}\".format(sorting[-1][1]))"
   ]
  },
  {
   "cell_type": "markdown",
   "metadata": {},
   "source": [
    "#### Now, bin the degree distribution, for example using `numpy.histogram`."
   ]
  },
  {
   "cell_type": "code",
   "execution_count": 224,
   "metadata": {},
   "outputs": [],
   "source": [
    "distribution = list(map(lambda x: x[1], sorting))"
   ]
  },
  {
   "cell_type": "code",
   "execution_count": 237,
   "metadata": {},
   "outputs": [],
   "source": [
    "hist=np.histogram(distribution,bins=15)"
   ]
  },
  {
   "cell_type": "markdown",
   "metadata": {},
   "source": [
    "#### Plot the distribution. Plot it with both linear and log-log axes."
   ]
  },
  {
   "cell_type": "code",
   "execution_count": 238,
   "metadata": {},
   "outputs": [
    {
     "data": {
      "image/png": "[encoded data removed]",
      "text/plain": [
       "<Figure size 432x288 with 1 Axes>"
      ]
     },
     "metadata": {
      "needs_background": "light"
     },
     "output_type": "display_data"
    }
   ],
   "source": [
    "plt.scatter(y=hist[0],x=hist[1][1:])\n",
    "plt.title(\"Degree Distribution of BA Model (Linear)\")\n",
    "plt.ylabel(\"Frequency\")\n",
    "plt.xlabel(\"Degree\")\n",
    "plt.show()"
   ]
  },
  {
   "cell_type": "code",
   "execution_count": 241,
   "metadata": {},
   "outputs": [],
   "source": [
    "def log(x):\n",
    "    if x==0:\n",
    "        return 0\n",
    "    return math.log(x)"
   ]
  },
  {
   "cell_type": "code",
   "execution_count": 242,
   "metadata": {},
   "outputs": [
    {
     "data": {
      "image/png": "[encoded data removed]",
      "text/plain": [
       "<Figure size 432x288 with 1 Axes>"
      ]
     },
     "metadata": {
      "needs_background": "light"
     },
     "output_type": "display_data"
    }
   ],
   "source": [
    "plt.scatter(y=[log(x) for x in hist[0]],x=[log(i) for i in hist[1][1:]])\n",
    "plt.title(\"Degree Distribution of BA Model (Log)\")\n",
    "plt.ylabel(\"Log(frequency)\")\n",
    "plt.xlabel(\"Log(degree)\")\n",
    "plt.show()"
   ]
  },
  {
   "cell_type": "markdown",
   "metadata": {},
   "source": [
    "## Part 5: Power-laws and the friendship paradox"
   ]
  },
  {
   "cell_type": "markdown",
   "metadata": {},
   "source": [
    "### 5.1 Next step is to explore the friendship paradox"
   ]
  },
  {
   "cell_type": "markdown",
   "metadata": {},
   "source": [
    "#### Pick a node _i_ at random (e.g. use `random.choice`). Find its degree"
   ]
  },
  {
   "cell_type": "code",
   "execution_count": 256,
   "metadata": {},
   "outputs": [
    {
     "name": "stdout",
     "output_type": "stream",
     "text": [
      "The chosen random node is 1255\n",
      "Its degree is 1\n"
     ]
    }
   ],
   "source": [
    "node_random=random.choice(list(G.nodes))\n",
    "print(\"The chosen random node is \" + str(node_random))\n",
    "print(\"Its degree is {}\".format(G.degree(node_random)))"
   ]
  },
  {
   "cell_type": "markdown",
   "metadata": {},
   "source": [
    "#### Find _i_'s neighbors and calculate their average degree."
   ]
  },
  {
   "cell_type": "code",
   "execution_count": 257,
   "metadata": {},
   "outputs": [],
   "source": [
    "neighbors = list(G.neighbors(n=node_random))"
   ]
  },
  {
   "cell_type": "code",
   "execution_count": 261,
   "metadata": {},
   "outputs": [
    {
     "name": "stdout",
     "output_type": "stream",
     "text": [
      "The average degree of its neighbor(s) is 2.0\n"
     ]
    }
   ],
   "source": [
    "neighbor_degree=[G.degree(x) for x in neighbors]\n",
    "print(\"The average degree of its neighbor(s) is {}\".format(\n",
    "    sum(neighbor_degree)/len(neighbor_degree)))"
   ]
  },
  {
   "cell_type": "markdown",
   "metadata": {},
   "source": [
    "#### Compare the two numbers to check if it's true that _i_'s friends (on average) have more friends than _i_."
   ]
  },
  {
   "cell_type": "code",
   "execution_count": 262,
   "metadata": {},
   "outputs": [
    {
     "data": {
      "text/plain": [
       "True"
      ]
     },
     "execution_count": 262,
     "metadata": {},
     "output_type": "execute_result"
    }
   ],
   "source": [
    "sum(neighbor_degree)/len(neighbor_degree) > G.degree(node_random)"
   ]
  },
  {
   "cell_type": "markdown",
   "metadata": {},
   "source": [
    "Its true that i's friends on average have more friends than i."
   ]
  },
  {
   "cell_type": "markdown",
   "metadata": {},
   "source": [
    "### Do this 1000 times. How many out of those 1000 times is the friendship paradox true?"
   ]
  },
  {
   "cell_type": "code",
   "execution_count": 263,
   "metadata": {},
   "outputs": [
    {
     "name": "stdout",
     "output_type": "stream",
     "text": [
      "864\n",
      "136\n"
     ]
    }
   ],
   "source": [
    "count_true=0\n",
    "count_false=0\n",
    "for i in range(1000):\n",
    "    node_random=random.choice(list(G.nodes))\n",
    "    num1=G.degree(node_random)\n",
    "    total=0\n",
    "    count=0\n",
    "    for neighbor in G.neighbors(n=node_random):\n",
    "        count+=1\n",
    "        total+=G.degree(neighbor)\n",
    "    if total/count > num1:\n",
    "        count_true+=1\n",
    "    else:\n",
    "        count_false+=1\n",
    "print(count_true)\n",
    "print(count_false)"
   ]
  },
  {
   "cell_type": "markdown",
   "metadata": {},
   "source": [
    "Friend paradox is true for 864 out of 1000 times."
   ]
  },
  {
   "cell_type": "markdown",
   "metadata": {},
   "source": [
    "### 5.2 Finally, we'll build a network of same size and degree, using the growth mechanism without the preferential attachment. "
   ]
  },
  {
   "cell_type": "code",
   "execution_count": 264,
   "metadata": {},
   "outputs": [],
   "source": [
    "G2=nx.Graph()\n",
    "G2.add_nodes_from([0,1])\n",
    "G2.add_edges_from([[0,1],])\n",
    "for i in range(2,5000):\n",
    "    node=random.choice(list(G2.nodes)) ## without the preferential attachment\n",
    "    G2.add_node(i)\n",
    "    G2.add_edge(i,node)"
   ]
  },
  {
   "cell_type": "markdown",
   "metadata": {
    "collapsed": true
   },
   "source": [
    "#### Compare to the ER network of same size and same $p$. What are the differences? Explain in your own words. *Hint*: To get started, take a look at the degree distribution, and study the number of connected components."
   ]
  },
  {
   "cell_type": "code",
   "execution_count": 265,
   "metadata": {},
   "outputs": [],
   "source": [
    "G3=nx.gnm_random_graph(n=len(list(G2.nodes)),m=len(list(G2.edges))) ## ER network"
   ]
  },
  {
   "cell_type": "code",
   "execution_count": 268,
   "metadata": {},
   "outputs": [
    {
     "data": {
      "image/png": "[encoded data removed]",
      "text/plain": [
       "<Figure size 432x288 with 1 Axes>"
      ]
     },
     "metadata": {
      "needs_background": "light"
     },
     "output_type": "display_data"
    }
   ],
   "source": [
    "G2_his=np.histogram(list(map(lambda x : x[1], list(G2.degree))))\n",
    "plt.scatter(y=G2_his[0],x=G2_his[1][1:])\n",
    "plt.title(\"Degree Distribution of BA Network w/o Preferential Attachment\")\n",
    "plt.ylabel(\"Frequency\")\n",
    "plt.xlabel(\"Degree\")\n",
    "plt.show()"
   ]
  },
  {
   "cell_type": "markdown",
   "metadata": {},
   "source": [
    "#### Observation 1: BA without PA (preferential attachment) still follows a power-laws distribution."
   ]
  },
  {
   "cell_type": "code",
   "execution_count": 269,
   "metadata": {},
   "outputs": [
    {
     "data": {
      "image/png": "[encoded data removed]",
      "text/plain": [
       "<Figure size 432x288 with 1 Axes>"
      ]
     },
     "metadata": {
      "needs_background": "light"
     },
     "output_type": "display_data"
    }
   ],
   "source": [
    "G3_his=np.histogram(list(map(lambda x : x[1], list(G3.degree))))\n",
    "plt.scatter(y=G3_his[0],x=G3_his[1][1:])\n",
    "plt.title(\"Degree Distribution of ER Network\")\n",
    "plt.ylabel(\"Frequency\")\n",
    "plt.xlabel(\"Degree\")\n",
    "plt.show()"
   ]
  },
  {
   "cell_type": "markdown",
   "metadata": {},
   "source": [
    "#### Observation 2: ER seems to follows a poisson distribution --> one peak."
   ]
  },
  {
   "cell_type": "code",
   "execution_count": 271,
   "metadata": {},
   "outputs": [
    {
     "name": "stdout",
     "output_type": "stream",
     "text": [
      "1\n",
      "799\n"
     ]
    }
   ],
   "source": [
    "print(nx.number_connected_components(G2))\n",
    "print(nx.number_connected_components(G3))"
   ]
  },
  {
   "cell_type": "markdown",
   "metadata": {},
   "source": [
    "#### Observation 3: BA without PA is a connect graph with only one component while ER has many components (799 in this case)"
   ]
  },
  {
   "cell_type": "code",
   "execution_count": null,
   "metadata": {},
   "outputs": [],
   "source": []
  }
 ],
 "metadata": {
  "anaconda-cloud": {},
  "kernelspec": {
   "display_name": "Python 3",
   "language": "python",
   "name": "python3"
  },
  "language_info": {
   "codemirror_mode": {
    "name": "ipython",
    "version": 3
   },
   "file_extension": ".py",
   "mimetype": "text/x-python",
   "name": "python",
   "nbconvert_exporter": "python",
   "pygments_lexer": "ipython3",
   "version": "3.7.3"
  }
 },
 "nbformat": 4,
 "nbformat_minor": 1
}
