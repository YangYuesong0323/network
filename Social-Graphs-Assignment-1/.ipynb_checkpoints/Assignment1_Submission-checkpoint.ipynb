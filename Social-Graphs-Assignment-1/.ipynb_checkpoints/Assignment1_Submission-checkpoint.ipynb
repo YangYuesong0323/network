{
 "cells": [
  {
   "cell_type": "markdown",
   "metadata": {},
   "source": [
    "# Assignment 1"
   ]
  },
  {
   "cell_type": "code",
   "execution_count": 1,
   "metadata": {},
   "outputs": [],
   "source": [
    "import random\n",
    "import numpy as np\n",
    "import matplotlib.pyplot as plt\n",
    "%matplotlib inline\n",
    "import networkx as nx\n",
    "import math\n",
    "from sympy.solvers import solve\n",
    "from sympy import *"
   ]
  },
  {
   "cell_type": "markdown",
   "metadata": {},
   "source": [
    "## Part 1: Binning degree distribution"
   ]
  },
  {
   "cell_type": "markdown",
   "metadata": {},
   "source": [
    "### 1.1 Binning real numbers"
   ]
  },
  {
   "cell_type": "markdown",
   "metadata": {},
   "source": [
    "#### Let's do a gentle start and use the `random` library generate 5000 data points from a Gaussian distribution with $\\mu = 2$ and $\\sigma = 0.125$."
   ]
  },
  {
   "cell_type": "code",
   "execution_count": 2,
   "metadata": {},
   "outputs": [],
   "source": [
    "random_gaussian=[random.gauss(mu=2, sigma=0.125) for i in range(5000)]"
   ]
  },
  {
   "cell_type": "markdown",
   "metadata": {},
   "source": [
    "#### Now, let's use `numpy.histogram` to bin those number into 10 bins. What does the `numpy.histogram` function return? Do the two arrays have the same length?"
   ]
  },
  {
   "cell_type": "code",
   "execution_count": 3,
   "metadata": {},
   "outputs": [],
   "source": [
    "hist=np.histogram(random_gaussian,bins=10)"
   ]
  },
  {
   "cell_type": "code",
   "execution_count": 4,
   "metadata": {},
   "outputs": [
    {
     "data": {
      "text/plain": [
       "(array([   4,   40,  214,  723, 1318, 1469,  850,  323,   52,    7],\n",
       "       dtype=int64),\n",
       " array([1.50379286, 1.60077881, 1.69776476, 1.79475072, 1.89173667,\n",
       "        1.98872262, 2.08570857, 2.18269453, 2.27968048, 2.37666643,\n",
       "        2.47365239]))"
      ]
     },
     "execution_count": 4,
     "metadata": {},
     "output_type": "execute_result"
    }
   ],
   "source": [
    "hist"
   ]
  },
  {
   "cell_type": "code",
   "execution_count": 5,
   "metadata": {},
   "outputs": [
    {
     "data": {
      "text/plain": [
       "tuple"
      ]
     },
     "execution_count": 5,
     "metadata": {},
     "output_type": "execute_result"
    }
   ],
   "source": [
    "type(hist)"
   ]
  },
  {
   "cell_type": "code",
   "execution_count": 6,
   "metadata": {},
   "outputs": [
    {
     "data": {
      "text/plain": [
       "2"
      ]
     },
     "execution_count": 6,
     "metadata": {},
     "output_type": "execute_result"
    }
   ],
   "source": [
    "len(hist)"
   ]
  },
  {
   "cell_type": "markdown",
   "metadata": {},
   "source": [
    "np.histogram returns a tuple of size 2.\n",
    "\n",
    "At index 0, it is the values of the histogram, in this case, number of occurrences in each bin.\n",
    "\n",
    "At index 1, it is the bin edges.\n",
    "\n",
    "See documentation at https://docs.scipy.org/doc/numpy/reference/generated/numpy.histogram.html"
   ]
  },
  {
   "cell_type": "code",
   "execution_count": 7,
   "metadata": {},
   "outputs": [
    {
     "name": "stdout",
     "output_type": "stream",
     "text": [
      "Length of the first array is 10.\n",
      "Length of the second array is 11.\n",
      "No, the two arrays do not have the same length.\n"
     ]
    }
   ],
   "source": [
    "heights=hist[0]\n",
    "edges=hist[1]\n",
    "print(\"Length of the first array is {}.\".format(len(heights)))\n",
    "print(\"Length of the second array is {}.\".format(len(edges)))\n",
    "\n",
    "if len(heights) == len(edges):\n",
    "    print(\"Yes, the two arrays have the same length.\")\n",
    "else:\n",
    "    print(\"No, the two arrays do not have the same length.\")"
   ]
  },
  {
   "cell_type": "markdown",
   "metadata": {},
   "source": [
    "From the code above, the two arrays do not have the same length. This is because the second array specifies bin edges (boundary values of each bin), thus its length is `length of the first array + 1`."
   ]
  },
  {
   "cell_type": "code",
   "execution_count": 8,
   "metadata": {},
   "outputs": [
    {
     "data": {
      "text/plain": [
       "1.5037928586529594"
      ]
     },
     "execution_count": 8,
     "metadata": {},
     "output_type": "execute_result"
    }
   ],
   "source": [
    "min(edges)"
   ]
  },
  {
   "cell_type": "code",
   "execution_count": 9,
   "metadata": {},
   "outputs": [
    {
     "data": {
      "text/plain": [
       "array([1.50379286, 1.60077881, 1.69776476, 1.79475072, 1.89173667,\n",
       "       1.98872262, 2.08570857, 2.18269453, 2.27968048, 2.37666643,\n",
       "       2.47365239])"
      ]
     },
     "execution_count": 9,
     "metadata": {},
     "output_type": "execute_result"
    }
   ],
   "source": [
    "edges"
   ]
  },
  {
   "cell_type": "markdown",
   "metadata": {},
   "source": [
    "#### Then we use `matplotlib.pyplot.plot` to plot the binned data. You will have to deal with the fact that the counts- and bin-arrays have different lengths. Explain how you deal with this problem and why."
   ]
  },
  {
   "cell_type": "markdown",
   "metadata": {},
   "source": [
    "In the edges array, all but the last (righthand-most) bin is half-open. In other words, if bins is: [1,2,3,4]. The bins are [1,2) [2,3) and [3,4].\n",
    "\n",
    "Let the bars in the diagram represent the counts from number A to number B with number B labelled. So our group will only use numbers indexed from 1 to len(edges) of the edges array."
   ]
  },
  {
   "cell_type": "code",
   "execution_count": 10,
   "metadata": {},
   "outputs": [
    {
     "data": {
      "image/png": "[encoded data removed]",
      "text/plain": [
       "<Figure size 432x288 with 1 Axes>"
      ]
     },
     "metadata": {
      "needs_background": "light"
     },
     "output_type": "display_data"
    }
   ],
   "source": [
    "plt.plot(edges[1:],heights, '-o')\n",
    "plt.xlabel(\"Bin\")\n",
    "plt.ylabel(\"Number of Occurrences\")\n",
    "plt.title(\"Guassian Plot\")\n",
    "plt.xticks(list(map(lambda x : round(x,2), edges[1:])))\n",
    "plt.show()"
   ]
  },
  {
   "cell_type": "markdown",
   "metadata": {},
   "source": [
    "### 1.2 Bining integers"
   ]
  },
  {
   "cell_type": "markdown",
   "metadata": {},
   "source": [
    "####  Use `numpy.random.poisson` to generate 5000 numbers drawn from a Poisson distribution characterized by $\\lambda = 10$. Find the maximum and minimum value of your 5000 random numbers. "
   ]
  },
  {
   "cell_type": "code",
   "execution_count": 11,
   "metadata": {},
   "outputs": [],
   "source": [
    "random_poisson=[np.random.poisson(lam=10) for i in range(5000)]"
   ]
  },
  {
   "cell_type": "code",
   "execution_count": 12,
   "metadata": {},
   "outputs": [
    {
     "name": "stdout",
     "output_type": "stream",
     "text": [
      "The maximum number value is 21\n",
      "The minimum number value is 1\n"
     ]
    }
   ],
   "source": [
    "max_v=max(random_poisson)\n",
    "min_v=min(random_poisson)\n",
    "print(\"The maximum number value is {}\".format(max_v))\n",
    "print(\"The minimum number value is {}\".format(min_v))"
   ]
  },
  {
   "cell_type": "markdown",
   "metadata": {},
   "source": [
    "#### Instead of simplify specifying the number of bins for `numpy.histogram`, let's specify the bins we want using a vector. Create a vector $v$ that results in a binning that puts each integer value in its own bin and where the first bin contains the minimum number you found above, and the last bin contains the maximum number (you may want to think about how `numpy.histogram` deals with the smallest and largest value in particular; is it correct to set the first entry of $v$ to be equal to the smallest value you observe and the last entry of $v$ to be the highest value observed?). Use the vector by setting `numpy.histogram`'s `bins` parameter as `bins = ` $v$. What is the sum over bin counts? Explain how the binning-vectors first and last element relates to the min and max from the Poisson distribution."
   ]
  },
  {
   "cell_type": "code",
   "execution_count": 13,
   "metadata": {},
   "outputs": [
    {
     "data": {
      "text/plain": [
       "[1, 3.0, 5.0, 7.0, 9.0, 11.0, 13.0, 15.0, 17.0, 19.0, 21.0]"
      ]
     },
     "execution_count": 13,
     "metadata": {},
     "output_type": "execute_result"
    }
   ],
   "source": [
    "step = (max_v - min_v)/10 # step represents the range of each bin\n",
    "v=[]\n",
    "value=min_v\n",
    "for i in range(11):\n",
    "    v.append(value)\n",
    "    value = round(value + step, 2)\n",
    "v"
   ]
  },
  {
   "cell_type": "markdown",
   "metadata": {},
   "source": [
    "Yes, it is correct to set the first entry to be the smallest value from random possion array and the last entry to be the largest value from random possion array. This is because the bins parameter takes in a monotonically increasing sequence including the rightmost edge."
   ]
  },
  {
   "cell_type": "code",
   "execution_count": 14,
   "metadata": {},
   "outputs": [],
   "source": [
    "hist=np.histogram(random_poisson,bins=v)"
   ]
  },
  {
   "cell_type": "code",
   "execution_count": 15,
   "metadata": {},
   "outputs": [
    {
     "name": "stdout",
     "output_type": "stream",
     "text": [
      "The sum over bin counts is 5000\n"
     ]
    }
   ],
   "source": [
    "summation=sum(hist[0])\n",
    "print(\"The sum over bin counts is {}\".format(summation))"
   ]
  },
  {
   "cell_type": "markdown",
   "metadata": {},
   "source": [
    "The first element from the binning-vector is the smallest value observed from the possion distribution and the last element is the largest value observed. This is to set the boundaries for the bins such that all values are included and the interval of each bin is equal."
   ]
  },
  {
   "cell_type": "markdown",
   "metadata": {},
   "source": [
    "#### Now, use a bar chart (`matplotlib.pyplot.bar`) to plot the distribution "
   ]
  },
  {
   "cell_type": "code",
   "execution_count": 16,
   "metadata": {},
   "outputs": [
    {
     "data": {
      "image/png": "[encoded data removed]",
      "text/plain": [
       "<Figure size 432x288 with 1 Axes>"
      ]
     },
     "metadata": {
      "needs_background": "light"
     },
     "output_type": "display_data"
    }
   ],
   "source": [
    "plt.bar(v[1:], hist[0])\n",
    "plt.xticks(v[1:])\n",
    "plt.xlabel(\"Bin\")\n",
    "plt.ylabel(\"Number of Occurrences\")\n",
    "plt.title(\"Possion Plot\")\n",
    "plt.show()"
   ]
  },
  {
   "cell_type": "markdown",
   "metadata": {},
   "source": [
    "### 1.3 Binning and plotting degree distributions"
   ]
  },
  {
   "cell_type": "markdown",
   "metadata": {},
   "source": [
    "#### Let's generate the Erdös-Renyi (ER) network which has a degree distribution that matches the Poisson distribution above. First we have to figure out which values the ER parameters (_N_ and _p_) should assume. It's easy to see that $N = 5000$, but how do you find $p$? \n",
    "**Hint**: The parameter $\\lambda$ in the Poisson distribution corresponds to the average degree, so you have to find a $p$ that results in an average degree, $k = 10$. And you know that $\\langle k \\rangle = p (N-1)$, which will give you $p$."
   ]
  },
  {
   "cell_type": "code",
   "execution_count": 17,
   "metadata": {},
   "outputs": [
    {
     "name": "stdout",
     "output_type": "stream",
     "text": [
      "Value of p is: 0.002000400080016003\n"
     ]
    }
   ],
   "source": [
    "N = 5000\n",
    "avg_degree = 10\n",
    "p = avg_degree/(N-1)\n",
    "print(\"Value of p is: {}\".format(p))"
   ]
  },
  {
   "cell_type": "markdown",
   "metadata": {},
   "source": [
    "#### Now, use `networkx` to create the graph and extract the degree distribution."
   ]
  },
  {
   "cell_type": "code",
   "execution_count": 18,
   "metadata": {},
   "outputs": [],
   "source": [
    "ER_graph= nx.erdos_renyi_graph(N, p)"
   ]
  },
  {
   "cell_type": "code",
   "execution_count": 19,
   "metadata": {},
   "outputs": [],
   "source": [
    "degree_distribution=[i[1] for i in ER_graph.degree]"
   ]
  },
  {
   "cell_type": "code",
   "execution_count": 20,
   "metadata": {},
   "outputs": [
    {
     "data": {
      "text/plain": [
       "[11,\n",
       " 14,\n",
       " 8,\n",
       " 10,\n",
       " 8,\n",
       " 6,\n",
       " 4,\n",
       " 13,\n",
       " 9,\n",
       " 9,\n",
       " 7,\n",
       " 15,\n",
       " 17,\n",
       " 12,\n",
       " 12,\n",
       " 11,\n",
       " 7,\n",
       " 8,\n",
       " 21,\n",
       " 11,\n",
       " 9,\n",
       " 11,\n",
       " 14,\n",
       " 10,\n",
       " 10,\n",
       " 8,\n",
       " 7,\n",
       " 11,\n",
       " 14,\n",
       " 10,\n",
       " 8,\n",
       " 3,\n",
       " 17,\n",
       " 7,\n",
       " 11,\n",
       " 11,\n",
       " 7,\n",
       " 15,\n",
       " 9,\n",
       " 9,\n",
       " 8,\n",
       " 10,\n",
       " 6,\n",
       " 14,\n",
       " 12,\n",
       " 9,\n",
       " 6,\n",
       " 9,\n",
       " 11,\n",
       " 8,\n",
       " 10,\n",
       " 5,\n",
       " 8,\n",
       " 13,\n",
       " 12,\n",
       " 7,\n",
       " 10,\n",
       " 8,\n",
       " 13,\n",
       " 10,\n",
       " 10,\n",
       " 7,\n",
       " 16,\n",
       " 10,\n",
       " 11,\n",
       " 7,\n",
       " 9,\n",
       " 14,\n",
       " 9,\n",
       " 11,\n",
       " 11,\n",
       " 7,\n",
       " 9,\n",
       " 6,\n",
       " 12,\n",
       " 10,\n",
       " 9,\n",
       " 10,\n",
       " 8,\n",
       " 11,\n",
       " 10,\n",
       " 6,\n",
       " 5,\n",
       " 8,\n",
       " 8,\n",
       " 9,\n",
       " 7,\n",
       " 11,\n",
       " 11,\n",
       " 10,\n",
       " 13,\n",
       " 6,\n",
       " 6,\n",
       " 8,\n",
       " 7,\n",
       " 3,\n",
       " 10,\n",
       " 15,\n",
       " 9,\n",
       " 17,\n",
       " 11,\n",
       " 9,\n",
       " 8,\n",
       " 9,\n",
       " 6,\n",
       " 12,\n",
       " 9,\n",
       " 10,\n",
       " 6,\n",
       " 11,\n",
       " 11,\n",
       " 13,\n",
       " 12,\n",
       " 9,\n",
       " 5,\n",
       " 7,\n",
       " 6,\n",
       " 12,\n",
       " 9,\n",
       " 11,\n",
       " 8,\n",
       " 16,\n",
       " 9,\n",
       " 6,\n",
       " 12,\n",
       " 11,\n",
       " 18,\n",
       " 9,\n",
       " 7,\n",
       " 8,\n",
       " 10,\n",
       " 7,\n",
       " 7,\n",
       " 6,\n",
       " 10,\n",
       " 6,\n",
       " 10,\n",
       " 8,\n",
       " 10,\n",
       " 16,\n",
       " 9,\n",
       " 10,\n",
       " 9,\n",
       " 10,\n",
       " 7,\n",
       " 12,\n",
       " 12,\n",
       " 9,\n",
       " 7,\n",
       " 6,\n",
       " 6,\n",
       " 7,\n",
       " 5,\n",
       " 5,\n",
       " 11,\n",
       " 7,\n",
       " 8,\n",
       " 10,\n",
       " 13,\n",
       " 11,\n",
       " 8,\n",
       " 10,\n",
       " 10,\n",
       " 10,\n",
       " 11,\n",
       " 3,\n",
       " 5,\n",
       " 15,\n",
       " 8,\n",
       " 13,\n",
       " 8,\n",
       " 15,\n",
       " 11,\n",
       " 5,\n",
       " 11,\n",
       " 16,\n",
       " 7,\n",
       " 8,\n",
       " 8,\n",
       " 8,\n",
       " 8,\n",
       " 14,\n",
       " 7,\n",
       " 11,\n",
       " 16,\n",
       " 10,\n",
       " 9,\n",
       " 7,\n",
       " 8,\n",
       " 14,\n",
       " 12,\n",
       " 21,\n",
       " 11,\n",
       " 9,\n",
       " 17,\n",
       " 21,\n",
       " 7,\n",
       " 9,\n",
       " 8,\n",
       " 4,\n",
       " 12,\n",
       " 18,\n",
       " 8,\n",
       " 8,\n",
       " 8,\n",
       " 4,\n",
       " 13,\n",
       " 10,\n",
       " 11,\n",
       " 13,\n",
       " 14,\n",
       " 10,\n",
       " 12,\n",
       " 12,\n",
       " 4,\n",
       " 12,\n",
       " 8,\n",
       " 4,\n",
       " 4,\n",
       " 8,\n",
       " 12,\n",
       " 11,\n",
       " 6,\n",
       " 14,\n",
       " 9,\n",
       " 6,\n",
       " 4,\n",
       " 12,\n",
       " 8,\n",
       " 8,\n",
       " 6,\n",
       " 12,\n",
       " 7,\n",
       " 13,\n",
       " 7,\n",
       " 7,\n",
       " 10,\n",
       " 1,\n",
       " 10,\n",
       " 6,\n",
       " 7,\n",
       " 4,\n",
       " 13,\n",
       " 9,\n",
       " 10,\n",
       " 9,\n",
       " 6,\n",
       " 10,\n",
       " 8,\n",
       " 12,\n",
       " 8,\n",
       " 14,\n",
       " 7,\n",
       " 6,\n",
       " 9,\n",
       " 11,\n",
       " 8,\n",
       " 12,\n",
       " 7,\n",
       " 9,\n",
       " 10,\n",
       " 14,\n",
       " 13,\n",
       " 10,\n",
       " 13,\n",
       " 8,\n",
       " 11,\n",
       " 12,\n",
       " 10,\n",
       " 8,\n",
       " 12,\n",
       " 13,\n",
       " 10,\n",
       " 11,\n",
       " 7,\n",
       " 11,\n",
       " 10,\n",
       " 18,\n",
       " 11,\n",
       " 8,\n",
       " 8,\n",
       " 12,\n",
       " 7,\n",
       " 8,\n",
       " 6,\n",
       " 13,\n",
       " 2,\n",
       " 10,\n",
       " 10,\n",
       " 10,\n",
       " 15,\n",
       " 12,\n",
       " 9,\n",
       " 7,\n",
       " 9,\n",
       " 9,\n",
       " 9,\n",
       " 10,\n",
       " 10,\n",
       " 10,\n",
       " 8,\n",
       " 10,\n",
       " 12,\n",
       " 13,\n",
       " 15,\n",
       " 6,\n",
       " 7,\n",
       " 8,\n",
       " 9,\n",
       " 5,\n",
       " 10,\n",
       " 7,\n",
       " 8,\n",
       " 11,\n",
       " 5,\n",
       " 18,\n",
       " 10,\n",
       " 10,\n",
       " 7,\n",
       " 10,\n",
       " 17,\n",
       " 9,\n",
       " 10,\n",
       " 10,\n",
       " 9,\n",
       " 15,\n",
       " 11,\n",
       " 10,\n",
       " 8,\n",
       " 11,\n",
       " 8,\n",
       " 3,\n",
       " 12,\n",
       " 15,\n",
       " 6,\n",
       " 14,\n",
       " 9,\n",
       " 8,\n",
       " 12,\n",
       " 12,\n",
       " 8,\n",
       " 5,\n",
       " 13,\n",
       " 10,\n",
       " 11,\n",
       " 9,\n",
       " 12,\n",
       " 4,\n",
       " 4,\n",
       " 6,\n",
       " 12,\n",
       " 10,\n",
       " 10,\n",
       " 5,\n",
       " 7,\n",
       " 12,\n",
       " 8,\n",
       " 11,\n",
       " 7,\n",
       " 6,\n",
       " 14,\n",
       " 11,\n",
       " 8,\n",
       " 14,\n",
       " 9,\n",
       " 12,\n",
       " 14,\n",
       " 7,\n",
       " 16,\n",
       " 8,\n",
       " 13,\n",
       " 14,\n",
       " 13,\n",
       " 14,\n",
       " 11,\n",
       " 19,\n",
       " 11,\n",
       " 20,\n",
       " 9,\n",
       " 11,\n",
       " 14,\n",
       " 2,\n",
       " 8,\n",
       " 17,\n",
       " 14,\n",
       " 9,\n",
       " 6,\n",
       " 9,\n",
       " 9,\n",
       " 10,\n",
       " 8,\n",
       " 6,\n",
       " 11,\n",
       " 9,\n",
       " 9,\n",
       " 9,\n",
       " 8,\n",
       " 8,\n",
       " 12,\n",
       " 11,\n",
       " 14,\n",
       " 11,\n",
       " 14,\n",
       " 7,\n",
       " 10,\n",
       " 6,\n",
       " 11,\n",
       " 9,\n",
       " 10,\n",
       " 8,\n",
       " 8,\n",
       " 7,\n",
       " 11,\n",
       " 9,\n",
       " 6,\n",
       " 10,\n",
       " 13,\n",
       " 12,\n",
       " 14,\n",
       " 8,\n",
       " 5,\n",
       " 7,\n",
       " 8,\n",
       " 9,\n",
       " 3,\n",
       " 7,\n",
       " 8,\n",
       " 8,\n",
       " 13,\n",
       " 6,\n",
       " 12,\n",
       " 11,\n",
       " 10,\n",
       " 13,\n",
       " 12,\n",
       " 10,\n",
       " 9,\n",
       " 11,\n",
       " 14,\n",
       " 11,\n",
       " 13,\n",
       " 10,\n",
       " 8,\n",
       " 7,\n",
       " 12,\n",
       " 10,\n",
       " 9,\n",
       " 6,\n",
       " 6,\n",
       " 11,\n",
       " 11,\n",
       " 5,\n",
       " 9,\n",
       " 10,\n",
       " 9,\n",
       " 8,\n",
       " 8,\n",
       " 14,\n",
       " 13,\n",
       " 5,\n",
       " 12,\n",
       " 7,\n",
       " 8,\n",
       " 7,\n",
       " 6,\n",
       " 8,\n",
       " 8,\n",
       " 11,\n",
       " 8,\n",
       " 12,\n",
       " 6,\n",
       " 8,\n",
       " 10,\n",
       " 14,\n",
       " 11,\n",
       " 4,\n",
       " 8,\n",
       " 8,\n",
       " 9,\n",
       " 10,\n",
       " 12,\n",
       " 9,\n",
       " 14,\n",
       " 4,\n",
       " 10,\n",
       " 7,\n",
       " 15,\n",
       " 7,\n",
       " 7,\n",
       " 14,\n",
       " 10,\n",
       " 10,\n",
       " 13,\n",
       " 6,\n",
       " 8,\n",
       " 16,\n",
       " 10,\n",
       " 10,\n",
       " 6,\n",
       " 11,\n",
       " 8,\n",
       " 10,\n",
       " 10,\n",
       " 9,\n",
       " 10,\n",
       " 11,\n",
       " 7,\n",
       " 6,\n",
       " 12,\n",
       " 5,\n",
       " 10,\n",
       " 5,\n",
       " 12,\n",
       " 10,\n",
       " 7,\n",
       " 15,\n",
       " 12,\n",
       " 7,\n",
       " 6,\n",
       " 9,\n",
       " 11,\n",
       " 7,\n",
       " 10,\n",
       " 9,\n",
       " 11,\n",
       " 12,\n",
       " 7,\n",
       " 11,\n",
       " 11,\n",
       " 7,\n",
       " 11,\n",
       " 10,\n",
       " 9,\n",
       " 9,\n",
       " 12,\n",
       " 8,\n",
       " 9,\n",
       " 14,\n",
       " 13,\n",
       " 8,\n",
       " 6,\n",
       " 7,\n",
       " 11,\n",
       " 15,\n",
       " 7,\n",
       " 5,\n",
       " 9,\n",
       " 10,\n",
       " 11,\n",
       " 10,\n",
       " 5,\n",
       " 9,\n",
       " 11,\n",
       " 11,\n",
       " 8,\n",
       " 15,\n",
       " 11,\n",
       " 9,\n",
       " 8,\n",
       " 11,\n",
       " 10,\n",
       " 12,\n",
       " 8,\n",
       " 7,\n",
       " 9,\n",
       " 11,\n",
       " 11,\n",
       " 13,\n",
       " 10,\n",
       " 8,\n",
       " 9,\n",
       " 11,\n",
       " 8,\n",
       " 9,\n",
       " 9,\n",
       " 8,\n",
       " 10,\n",
       " 14,\n",
       " 9,\n",
       " 8,\n",
       " 11,\n",
       " 17,\n",
       " 7,\n",
       " 17,\n",
       " 12,\n",
       " 7,\n",
       " 7,\n",
       " 9,\n",
       " 6,\n",
       " 9,\n",
       " 8,\n",
       " 8,\n",
       " 13,\n",
       " 14,\n",
       " 15,\n",
       " 11,\n",
       " 13,\n",
       " 12,\n",
       " 11,\n",
       " 10,\n",
       " 13,\n",
       " 7,\n",
       " 11,\n",
       " 8,\n",
       " 9,\n",
       " 8,\n",
       " 10,\n",
       " 7,\n",
       " 10,\n",
       " 6,\n",
       " 11,\n",
       " 11,\n",
       " 19,\n",
       " 12,\n",
       " 10,\n",
       " 10,\n",
       " 9,\n",
       " 6,\n",
       " 10,\n",
       " 13,\n",
       " 10,\n",
       " 7,\n",
       " 9,\n",
       " 7,\n",
       " 14,\n",
       " 4,\n",
       " 10,\n",
       " 6,\n",
       " 6,\n",
       " 6,\n",
       " 16,\n",
       " 8,\n",
       " 9,\n",
       " 9,\n",
       " 16,\n",
       " 10,\n",
       " 8,\n",
       " 11,\n",
       " 8,\n",
       " 12,\n",
       " 10,\n",
       " 16,\n",
       " 4,\n",
       " 11,\n",
       " 9,\n",
       " 5,\n",
       " 5,\n",
       " 5,\n",
       " 7,\n",
       " 5,\n",
       " 11,\n",
       " 15,\n",
       " 19,\n",
       " 6,\n",
       " 14,\n",
       " 12,\n",
       " 7,\n",
       " 5,\n",
       " 12,\n",
       " 9,\n",
       " 11,\n",
       " 6,\n",
       " 6,\n",
       " 8,\n",
       " 9,\n",
       " 9,\n",
       " 9,\n",
       " 12,\n",
       " 9,\n",
       " 9,\n",
       " 6,\n",
       " 9,\n",
       " 13,\n",
       " 9,\n",
       " 9,\n",
       " 6,\n",
       " 7,\n",
       " 9,\n",
       " 12,\n",
       " 8,\n",
       " 7,\n",
       " 6,\n",
       " 9,\n",
       " 13,\n",
       " 10,\n",
       " 12,\n",
       " 14,\n",
       " 9,\n",
       " 11,\n",
       " 10,\n",
       " 16,\n",
       " 8,\n",
       " 15,\n",
       " 8,\n",
       " 9,\n",
       " 4,\n",
       " 10,\n",
       " 10,\n",
       " 11,\n",
       " 10,\n",
       " 16,\n",
       " 8,\n",
       " 13,\n",
       " 4,\n",
       " 14,\n",
       " 8,\n",
       " 9,\n",
       " 6,\n",
       " 5,\n",
       " 8,\n",
       " 13,\n",
       " 11,\n",
       " 2,\n",
       " 10,\n",
       " 10,\n",
       " 15,\n",
       " 12,\n",
       " 8,\n",
       " 12,\n",
       " 12,\n",
       " 14,\n",
       " 13,\n",
       " 12,\n",
       " 6,\n",
       " 7,\n",
       " 8,\n",
       " 3,\n",
       " 13,\n",
       " 9,\n",
       " 10,\n",
       " 10,\n",
       " 13,\n",
       " 5,\n",
       " 11,\n",
       " 10,\n",
       " 14,\n",
       " 14,\n",
       " 6,\n",
       " 9,\n",
       " 12,\n",
       " 6,\n",
       " 8,\n",
       " 9,\n",
       " 12,\n",
       " 14,\n",
       " 9,\n",
       " 6,\n",
       " 9,\n",
       " 10,\n",
       " 10,\n",
       " 11,\n",
       " 6,\n",
       " 7,\n",
       " 8,\n",
       " 9,\n",
       " 6,\n",
       " 9,\n",
       " 13,\n",
       " 10,\n",
       " 12,\n",
       " 8,\n",
       " 11,\n",
       " 8,\n",
       " 15,\n",
       " 8,\n",
       " 6,\n",
       " 11,\n",
       " 6,\n",
       " 9,\n",
       " 13,\n",
       " 13,\n",
       " 6,\n",
       " 8,\n",
       " 11,\n",
       " 8,\n",
       " 9,\n",
       " 13,\n",
       " 14,\n",
       " 15,\n",
       " 10,\n",
       " 12,\n",
       " 9,\n",
       " 11,\n",
       " 6,\n",
       " 10,\n",
       " 9,\n",
       " 9,\n",
       " 10,\n",
       " 13,\n",
       " 12,\n",
       " 15,\n",
       " 11,\n",
       " 3,\n",
       " 9,\n",
       " 13,\n",
       " 6,\n",
       " 10,\n",
       " 11,\n",
       " 8,\n",
       " 7,\n",
       " 10,\n",
       " 12,\n",
       " 7,\n",
       " 8,\n",
       " 17,\n",
       " 9,\n",
       " 8,\n",
       " 4,\n",
       " 9,\n",
       " 16,\n",
       " 11,\n",
       " 11,\n",
       " 11,\n",
       " 8,\n",
       " 16,\n",
       " 8,\n",
       " 14,\n",
       " 6,\n",
       " 12,\n",
       " 13,\n",
       " 11,\n",
       " 8,\n",
       " 11,\n",
       " 15,\n",
       " 14,\n",
       " 12,\n",
       " 12,\n",
       " 10,\n",
       " 8,\n",
       " 12,\n",
       " 7,\n",
       " 11,\n",
       " 13,\n",
       " 6,\n",
       " 14,\n",
       " 16,\n",
       " 5,\n",
       " 10,\n",
       " 11,\n",
       " 11,\n",
       " 9,\n",
       " 10,\n",
       " 11,\n",
       " 11,\n",
       " 6,\n",
       " 9,\n",
       " 9,\n",
       " 16,\n",
       " 11,\n",
       " 3,\n",
       " 9,\n",
       " 10,\n",
       " 13,\n",
       " 13,\n",
       " 10,\n",
       " 12,\n",
       " 15,\n",
       " 7,\n",
       " 10,\n",
       " 11,\n",
       " 10,\n",
       " 8,\n",
       " 13,\n",
       " 9,\n",
       " 9,\n",
       " 5,\n",
       " 11,\n",
       " 7,\n",
       " 8,\n",
       " 7,\n",
       " 10,\n",
       " 9,\n",
       " 16,\n",
       " 11,\n",
       " 12,\n",
       " 8,\n",
       " 9,\n",
       " 8,\n",
       " 9,\n",
       " 7,\n",
       " 10,\n",
       " 10,\n",
       " 15,\n",
       " 12,\n",
       " 8,\n",
       " 8,\n",
       " 6,\n",
       " 12,\n",
       " 13,\n",
       " 12,\n",
       " 3,\n",
       " 15,\n",
       " 9,\n",
       " 10,\n",
       " 21,\n",
       " 8,\n",
       " 9,\n",
       " 8,\n",
       " 9,\n",
       " 12,\n",
       " 8,\n",
       " 12,\n",
       " 10,\n",
       " 14,\n",
       " 5,\n",
       " 12,\n",
       " 6,\n",
       " 5,\n",
       " 14,\n",
       " 9,\n",
       " 9,\n",
       " 6,\n",
       " 9,\n",
       " 15,\n",
       " 12,\n",
       " 10,\n",
       " 15,\n",
       " 13,\n",
       " 12,\n",
       " 13,\n",
       " 11,\n",
       " 10,\n",
       " 10,\n",
       " 6,\n",
       " 15,\n",
       " 12,\n",
       " 10,\n",
       " 11,\n",
       " 15,\n",
       " 7,\n",
       " 13,\n",
       " 10,\n",
       " 11,\n",
       " 6,\n",
       " 7,\n",
       " 10,\n",
       " 7,\n",
       " 10,\n",
       " 10,\n",
       " 5,\n",
       " 11,\n",
       " 8,\n",
       " 8,\n",
       " 11,\n",
       " 11,\n",
       " 10,\n",
       " 11,\n",
       " 9,\n",
       " 14,\n",
       " 8,\n",
       " 5,\n",
       " 12,\n",
       " 7,\n",
       " 13,\n",
       " 11,\n",
       " 14,\n",
       " 10,\n",
       " 7,\n",
       " 9,\n",
       " 15,\n",
       " 7,\n",
       " 10,\n",
       " 10,\n",
       " 13,\n",
       " 9,\n",
       " 9,\n",
       " 7,\n",
       " 6,\n",
       " 12,\n",
       " 6,\n",
       " 14,\n",
       " 16,\n",
       " 10,\n",
       " 7,\n",
       " 14,\n",
       " 8,\n",
       " 7,\n",
       " 13,\n",
       " 4,\n",
       " 10,\n",
       " 10,\n",
       " 9,\n",
       " 7,\n",
       " 12,\n",
       " 14,\n",
       " 10,\n",
       " 9,\n",
       " 8,\n",
       " 12,\n",
       " 9,\n",
       " 11,\n",
       " 12,\n",
       " 10,\n",
       " 10,\n",
       " 12,\n",
       " 14,\n",
       " 12,\n",
       " 10,\n",
       " 5,\n",
       " 10,\n",
       " ...]"
      ]
     },
     "execution_count": 20,
     "metadata": {},
     "output_type": "execute_result"
    }
   ],
   "source": [
    "degree_distribution"
   ]
  },
  {
   "cell_type": "markdown",
   "metadata": {},
   "source": [
    "#### Finally, create a nice bar plot of the degree distribution, including axes labels and a plot title. Make sure that it looks like the Poisson distribution you plotted above."
   ]
  },
  {
   "cell_type": "code",
   "execution_count": 21,
   "metadata": {},
   "outputs": [
    {
     "data": {
      "image/png": "[encoded data removed]",
      "text/plain": [
       "<Figure size 432x288 with 1 Axes>"
      ]
     },
     "metadata": {
      "needs_background": "light"
     },
     "output_type": "display_data"
    }
   ],
   "source": [
    "hist_ER = np.histogram(degree_distribution, bins=10)\n",
    "plt.bar(hist_ER[1][1:], hist_ER[0])\n",
    "plt.xticks(hist_ER[1][1:])\n",
    "plt.xlabel(\"Degree\")\n",
    "plt.ylabel(\"Number of Nodes\")\n",
    "plt.title(\"Degree Distribution Plot of ER network\")\n",
    "plt.show()"
   ]
  },
  {
   "cell_type": "markdown",
   "metadata": {},
   "source": [
    "## Part 2: Random networks and plotting in `networkx`"
   ]
  },
  {
   "cell_type": "markdown",
   "metadata": {},
   "source": [
    "### 2.1 In your notebook, work through NS exercise 3.1 ('Erdős-Rényi Networks')."
   ]
  },
  {
   "cell_type": "markdown",
   "metadata": {},
   "source": [
    "#### Consider an Erdos-Renyi network with N=3000 nodes, connected to each other with probability $ p = 10^{-3} $"
   ]
  },
  {
   "cell_type": "code",
   "execution_count": 22,
   "metadata": {},
   "outputs": [],
   "source": [
    "N = 3000\n",
    "p = 0.001"
   ]
  },
  {
   "cell_type": "markdown",
   "metadata": {},
   "source": [
    "#### (a) What is the expected number of links, L?"
   ]
  },
  {
   "cell_type": "code",
   "execution_count": 23,
   "metadata": {},
   "outputs": [
    {
     "name": "stdout",
     "output_type": "stream",
     "text": [
      "The expected number of links, <L>, is 4498.5\n"
     ]
    }
   ],
   "source": [
    "Expected_Links=N*(N-1)/2 * p\n",
    "print(\"The expected number of links, <L>, is {}\".format(Expected_Links))"
   ]
  },
  {
   "cell_type": "markdown",
   "metadata": {},
   "source": [
    "#### (b) In which regime is the network?"
   ]
  },
  {
   "cell_type": "code",
   "execution_count": 24,
   "metadata": {},
   "outputs": [
    {
     "name": "stdout",
     "output_type": "stream",
     "text": [
      "Average Degree, <k>: 2.999\n",
      "log(N): 8.006367567650246\n",
      "\n",
      "The network is in the supercritical regime.\n"
     ]
    }
   ],
   "source": [
    "avg_degree = 2 * Expected_Links / N\n",
    "\n",
    "print(\"Average Degree, <k>: {}\".format(avg_degree))\n",
    "print(\"log(N): {}\".format(math.log(N)))\n",
    "print(\"\")\n",
    "\n",
    "if avg_degree > 0 and avg_degree <1:\n",
    "    print(\"The network is in the subcritical regime.\")\n",
    "elif avg_degree == 1:\n",
    "    print(\"The network is in the critical\")\n",
    "elif avg_degree > 1:\n",
    "    if avg_degree > math.log(N):\n",
    "        print(\"The network is in the connected regime.\")\n",
    "    else:\n",
    "        print(\"The network is in the supercritical regime.\")"
   ]
  },
  {
   "cell_type": "markdown",
   "metadata": {},
   "source": [
    "#### (c) Calculate the probability $P_{c}$ so that the network is at the critical point."
   ]
  },
  {
   "cell_type": "code",
   "execution_count": 25,
   "metadata": {},
   "outputs": [
    {
     "name": "stdout",
     "output_type": "stream",
     "text": [
      "Probability Pc: 0.0003333333333333333\n"
     ]
    }
   ],
   "source": [
    "P_critical = 1 / N\n",
    "print(\"Probability Pc: {}\".format(P_critical))"
   ]
  },
  {
   "cell_type": "markdown",
   "metadata": {},
   "source": [
    "#### (d) Given the linking probability $p = 10^{-3}$, calculate the number of nodes $N^{cr}$ so that the network has only one component."
   ]
  },
  {
   "cell_type": "code",
   "execution_count": 26,
   "metadata": {},
   "outputs": [
    {
     "data": {
      "text/plain": [
       "[1.00100150267189, 9118.00647040274]"
      ]
     },
     "execution_count": 26,
     "metadata": {},
     "output_type": "execute_result"
    }
   ],
   "source": [
    "# Since the network has only one component, it is in the Connected Regime\n",
    "# For the network to have only one component, p = ln(N)/N\n",
    "\n",
    "# Use the Symbol library to solve the equation ln(N)/N - p = 0 for N.\n",
    "x = Symbol('x')\n",
    "solve(ln(x)/x - 0.001,x)"
   ]
  },
  {
   "cell_type": "markdown",
   "metadata": {},
   "source": [
    "The number of nodes can be either 1 or 9118. Reject 1 if a single node answer is trivial."
   ]
  },
  {
   "cell_type": "markdown",
   "metadata": {},
   "source": [
    "#### (e) For the network in (d), calculate the average degree $k^{cr}$ and the average distance between two randomly chosen nodes d."
   ]
  },
  {
   "cell_type": "code",
   "execution_count": 27,
   "metadata": {},
   "outputs": [],
   "source": [
    "# N and p are derived from (d)\n",
    "N = 9118\n",
    "p = 0.001"
   ]
  },
  {
   "cell_type": "code",
   "execution_count": 28,
   "metadata": {},
   "outputs": [
    {
     "name": "stdout",
     "output_type": "stream",
     "text": [
      "Average degree is 9.117\n"
     ]
    }
   ],
   "source": [
    "avg_degree=p * (N-1)\n",
    "print(\"Average degree is {}\".format(avg_degree))"
   ]
  },
  {
   "cell_type": "code",
   "execution_count": 29,
   "metadata": {},
   "outputs": [
    {
     "name": "stdout",
     "output_type": "stream",
     "text": [
      "Average distance is 4.125531617730235\n"
     ]
    }
   ],
   "source": [
    "avg_distance=np.log(N)/np.log(avg_degree)\n",
    "print(\"Average distance is {}\".format(avg_distance))"
   ]
  },
  {
   "cell_type": "markdown",
   "metadata": {},
   "source": [
    "#### (f) Calculate the degree distribution $p_{k}$ of the network (approximate with a Poisson degree distribution).\n",
    "$p_k  = e^{ - \\left\\langle k \\right\\rangle } \\frac{{\\left\\langle k \\right\\rangle ^k }}{{k!}} \\hspace{20 mm}$"
   ]
  },
  {
   "cell_type": "code",
   "execution_count": 30,
   "metadata": {},
   "outputs": [],
   "source": [
    "ave_k = p*(N-1)"
   ]
  },
  {
   "cell_type": "code",
   "execution_count": 31,
   "metadata": {},
   "outputs": [],
   "source": [
    "node_degree=[np.random.poisson(lam=avg_degree) for i in range(5000)]\n",
    "node_degree.sort()"
   ]
  },
  {
   "cell_type": "code",
   "execution_count": 32,
   "metadata": {},
   "outputs": [],
   "source": [
    "degree_distribution = [np.e**(-ave_k) * ave_k**k / math.factorial(k) for k in node_degree]"
   ]
  },
  {
   "cell_type": "code",
   "execution_count": 33,
   "metadata": {},
   "outputs": [
    {
     "data": {
      "image/png": "[encoded data removed]",
      "text/plain": [
       "<Figure size 432x288 with 1 Axes>"
      ]
     },
     "metadata": {
      "needs_background": "light"
     },
     "output_type": "display_data"
    }
   ],
   "source": [
    "plt.plot(node_degree, degree_distribution, '-o')\n",
    "plt.title(\"Degree distribution\")\n",
    "plt.xlabel(\"k\")\n",
    "plt.ylabel(\"pk\")\n",
    "plt.show()"
   ]
  },
  {
   "cell_type": "markdown",
   "metadata": {},
   "source": [
    "### 2.2 Paths. Plot a random network with 200 nodes and an average degree of 1.5\\."
   ]
  },
  {
   "cell_type": "code",
   "execution_count": 34,
   "metadata": {},
   "outputs": [],
   "source": [
    "N = 200\n",
    "avg_degree = 1.5\n",
    "p = avg_degree / (N-1)"
   ]
  },
  {
   "cell_type": "code",
   "execution_count": 35,
   "metadata": {},
   "outputs": [],
   "source": [
    "ERGraph= nx.erdos_renyi_graph(N, p)"
   ]
  },
  {
   "cell_type": "code",
   "execution_count": 36,
   "metadata": {},
   "outputs": [
    {
     "name": "stderr",
     "output_type": "stream",
     "text": [
      "C:\\ProgramData\\Anaconda3\\lib\\site-packages\\networkx\\drawing\\nx_pylab.py:611: MatplotlibDeprecationWarning: isinstance(..., numbers.Number)\n",
      "  if cb.is_numlike(alpha):\n"
     ]
    },
    {
     "data": {
      "image/png": "[encoded data removed]",
      "text/plain": [
       "<Figure size 720x720 with 1 Axes>"
      ]
     },
     "metadata": {
      "needs_background": "light"
     },
     "output_type": "display_data"
    }
   ],
   "source": [
    "plt.figure(figsize=(10,10))\n",
    "nx.draw_networkx(ERGraph, node_size=10, with_labels=False)\n",
    "plt.show()"
   ]
  },
  {
   "cell_type": "markdown",
   "metadata": {},
   "source": [
    "#### Extract the Giant Connected Component, GCC."
   ]
  },
  {
   "cell_type": "code",
   "execution_count": 37,
   "metadata": {},
   "outputs": [],
   "source": [
    "# choose the max from the connected components\n",
    "GCC = max(nx.connected_component_subgraphs(ERGraph), key=len)"
   ]
  },
  {
   "cell_type": "code",
   "execution_count": 38,
   "metadata": {},
   "outputs": [
    {
     "data": {
      "text/plain": [
       "121"
      ]
     },
     "execution_count": 38,
     "metadata": {},
     "output_type": "execute_result"
    }
   ],
   "source": [
    "len(GCC)"
   ]
  },
  {
   "cell_type": "markdown",
   "metadata": {},
   "source": [
    "#### Choose a node at random from the GCC."
   ]
  },
  {
   "cell_type": "code",
   "execution_count": 39,
   "metadata": {},
   "outputs": [
    {
     "data": {
      "text/plain": [
       "81"
      ]
     },
     "execution_count": 39,
     "metadata": {},
     "output_type": "execute_result"
    }
   ],
   "source": [
    "node_random=random.choice(list(GCC.nodes))\n",
    "node_random"
   ]
  },
  {
   "cell_type": "markdown",
   "metadata": {},
   "source": [
    "#### Find all nodes that are precisely 2 steps away from that node."
   ]
  },
  {
   "cell_type": "code",
   "execution_count": 40,
   "metadata": {},
   "outputs": [
    {
     "data": {
      "text/plain": [
       "[(72, 2), (189, 2)]"
      ]
     },
     "execution_count": 40,
     "metadata": {},
     "output_type": "execute_result"
    }
   ],
   "source": [
    "neighbor_2=list(filter(lambda x : x[1] ==2, \n",
    "           list(nx.single_source_shortest_path_length(GCC, node_random).items())))\n",
    "neighbor_2"
   ]
  },
  {
   "cell_type": "markdown",
   "metadata": {},
   "source": [
    "#### Plot the GCC with the following choice of colors. Starting node _black_ (\"#000000\"). The nodes 2 steps away _red_ (\"#ff0000\"). All other nodes _blue_ (\"#A0CBE2\")."
   ]
  },
  {
   "cell_type": "code",
   "execution_count": 41,
   "metadata": {},
   "outputs": [],
   "source": [
    "node_list=list(GCC.nodes())\n",
    "color_list=[]\n",
    "for i in node_list:\n",
    "    if i == node_random:\n",
    "        color_list.append(\"#000000\")\n",
    "        continue\n",
    "    if i in [x[0] for x in neighbor_2]:\n",
    "        color_list.append(\"#ff0000\")\n",
    "        continue\n",
    "    color_list.append(\"#A0CBE2\")"
   ]
  },
  {
   "cell_type": "code",
   "execution_count": 42,
   "metadata": {},
   "outputs": [
    {
     "data": {
      "image/png": "[encoded data removed]",
      "text/plain": [
       "<Figure size 432x288 with 1 Axes>"
      ]
     },
     "metadata": {},
     "output_type": "display_data"
    }
   ],
   "source": [
    "nx.draw_spring(GCC, node_size=60, \n",
    "                 with_labels=False, node_color=color_list, \n",
    "                 nodelist=node_list, font_size=7)\n",
    "ax= plt.gca()\n",
    "ax.collections[0].set_edgecolor(\"#000000\")"
   ]
  },
  {
   "cell_type": "markdown",
   "metadata": {},
   "source": [
    "## Part 3: Watts-Strogatz Networks"
   ]
  },
  {
   "cell_type": "markdown",
   "metadata": {},
   "source": [
    "### 3.1 Use nx.watts_strogatz_graph to generate 3 graphs with 500 nodes each, average degree = 4, and rewiring probablity $p = 0, 0.1, \\textrm{and} 1$. Calculate the average shortest path length $\\langle d \\rangle$ for each one. Describe what happens to the network when $p = 1$."
   ]
  },
  {
   "cell_type": "code",
   "execution_count": 43,
   "metadata": {},
   "outputs": [],
   "source": [
    "G1=nx.watts_strogatz_graph(500, 4, 0)\n",
    "G2=nx.watts_strogatz_graph(500, 4, 0.1)\n",
    "G3=nx.watts_strogatz_graph(500, 4, 1)"
   ]
  },
  {
   "cell_type": "code",
   "execution_count": 44,
   "metadata": {},
   "outputs": [],
   "source": [
    "d1=nx.average_shortest_path_length(G1)\n",
    "d2=nx.average_shortest_path_length(G2)\n",
    "d3=nx.average_shortest_path_length(G3)"
   ]
  },
  {
   "cell_type": "code",
   "execution_count": 45,
   "metadata": {},
   "outputs": [
    {
     "name": "stdout",
     "output_type": "stream",
     "text": [
      "Average shortest path length for each graph is:\n",
      "62.875751503006015 7.632849699398798 4.794741482965932\n"
     ]
    }
   ],
   "source": [
    "print(\"Average shortest path length for each graph is:\")\n",
    "print(d1,d2,d3)"
   ]
  },
  {
   "cell_type": "code",
   "execution_count": 46,
   "metadata": {},
   "outputs": [
    {
     "data": {
      "text/plain": [
       "4.4828921423310435"
      ]
     },
     "execution_count": 46,
     "metadata": {},
     "output_type": "execute_result"
    }
   ],
   "source": [
    "# average distance in a fully randomized network\n",
    "math.log(500)/math.log(4)"
   ]
  },
  {
   "cell_type": "markdown",
   "metadata": {},
   "source": [
    "When p = 1, all links have been rewired, so the watts_strogatz_graph turns into a random network.\n",
    "<br>\n",
    "As can be seen from the above, the average shortest path length of watts_strogatz_graph is close to that of a fully randomized network."
   ]
  },
  {
   "cell_type": "markdown",
   "metadata": {},
   "source": [
    "### 3.2 Generate 50 networks with $N = 500$, $\\langle k \\rangle = 4$, for each of $p = \\{0, 0.01, 0.03, 0.05, 0.1, 0.2\\}$. Calculate the average of $\\langle d \\rangle$ as well as the standard deviation over the 50 networks, to create a plot that shows how the path length decreases very quickly with only a little fraction of re-wiring. Use the standard deviation to add errorbars to the plot. "
   ]
  },
  {
   "cell_type": "code",
   "execution_count": 47,
   "metadata": {},
   "outputs": [],
   "source": [
    "# get dictionary of p : [d1,d2,...d50]\n",
    "p_list=[0,0.01,0.03,0.05,0.1,0.2]\n",
    "dic={}\n",
    "for p in p_list:\n",
    "    dic[p] = []\n",
    "    for i in range(50):\n",
    "        G=nx.watts_strogatz_graph(500, 4, p)\n",
    "        dic[p].append(nx.average_shortest_path_length(G))"
   ]
  },
  {
   "cell_type": "code",
   "execution_count": 48,
   "metadata": {},
   "outputs": [],
   "source": [
    "# get average and sd for each p\n",
    "avg=[sum(i)/len(i) for i in dic.values()]\n",
    "sd=[np.std(i) for i in dic.values()]"
   ]
  },
  {
   "cell_type": "code",
   "execution_count": 49,
   "metadata": {},
   "outputs": [
    {
     "data": {
      "image/png": "[encoded data removed]",
      "text/plain": [
       "<Figure size 432x288 with 1 Axes>"
      ]
     },
     "metadata": {
      "needs_background": "light"
     },
     "output_type": "display_data"
    }
   ],
   "source": [
    "plt.errorbar(y=avg,x=p_list,ecolor='red',yerr=sd,fmt='o''-''.k')\n",
    "plt.ylabel(\"average distance\")\n",
    "plt.xlabel(\"probability of rewiring\")\n",
    "plt.title('average distance against probability of rewiring')\n",
    "plt.show()"
   ]
  },
  {
   "cell_type": "markdown",
   "metadata": {},
   "source": [
    "## Part 4: The Barabasi-Albert Model"
   ]
  },
  {
   "cell_type": "markdown",
   "metadata": {},
   "source": [
    "### 4.1 Create a 100 node BA network using a BA model that you've coded on your own (so don't use the built-in NetworkX function, but the one you created during week 3). And plot it using NetworkX."
   ]
  },
  {
   "cell_type": "code",
   "execution_count": 50,
   "metadata": {},
   "outputs": [],
   "source": [
    "# start with node 0 and 1, link 0 and 1\n",
    "G=nx.Graph()\n",
    "G.add_nodes_from([0,1])\n",
    "G.add_edges_from([[0,1],])\n",
    "\n",
    "for i in range(2,100):\n",
    "    node=random.choice(np.array(list(G.edges)).flatten()) # proportional\n",
    "    G.add_node(i)\n",
    "    G.add_edge(i,node)"
   ]
  },
  {
   "cell_type": "code",
   "execution_count": 51,
   "metadata": {},
   "outputs": [
    {
     "data": {
      "image/png": "[encoded data removed]",
      "text/plain": [
       "<Figure size 360x360 with 1 Axes>"
      ]
     },
     "metadata": {},
     "output_type": "display_data"
    }
   ],
   "source": [
    "plt.figure(figsize=(5,5))\n",
    "pos = nx.spring_layout(G,k=0.5,iterations=50) # to make sure that the nodes are spaced apart so that each node is visible\n",
    "nx.draw(G, node_size = 60, with_labels=False, pos=pos, node_shape='o')"
   ]
  },
  {
   "cell_type": "markdown",
   "metadata": {},
   "source": [
    "### 4.2 Now create a 5000 node network."
   ]
  },
  {
   "cell_type": "code",
   "execution_count": 52,
   "metadata": {},
   "outputs": [],
   "source": [
    "# start with node 0 and 1, link 0 and 1\n",
    "G=nx.Graph()\n",
    "G.add_nodes_from([0,1])\n",
    "G.add_edges_from([[0,1],])\n",
    "\n",
    "for i in range(2,5000):\n",
    "    node=random.choice(np.array(list(G.edges)).flatten()) # proportional\n",
    "    G.add_node(i)\n",
    "    G.add_edge(i,node)"
   ]
  },
  {
   "cell_type": "markdown",
   "metadata": {},
   "source": [
    "#### What's the maximum and minimum degree?"
   ]
  },
  {
   "cell_type": "code",
   "execution_count": 53,
   "metadata": {},
   "outputs": [
    {
     "name": "stdout",
     "output_type": "stream",
     "text": [
      "the maximum degree is 136\n",
      "the minimum degree is 1\n"
     ]
    }
   ],
   "source": [
    "sorting=sorted(list(G.degree()),key=lambda x : x[1],reverse=True)\n",
    "print(\"the maximum degree is {}\".format(sorting[0][1]))\n",
    "print(\"the minimum degree is {}\".format(sorting[-1][1]))"
   ]
  },
  {
   "cell_type": "markdown",
   "metadata": {},
   "source": [
    "#### Now, bin the degree distribution, for example using `numpy.histogram`."
   ]
  },
  {
   "cell_type": "code",
   "execution_count": 54,
   "metadata": {},
   "outputs": [],
   "source": [
    "distribution = list(map(lambda x: x[1], sorting))"
   ]
  },
  {
   "cell_type": "code",
   "execution_count": 55,
   "metadata": {},
   "outputs": [],
   "source": [
    "hist=np.histogram(distribution,bins=15)"
   ]
  },
  {
   "cell_type": "markdown",
   "metadata": {},
   "source": [
    "#### Plot the distribution. Plot it with both linear and log-log axes."
   ]
  },
  {
   "cell_type": "code",
   "execution_count": 56,
   "metadata": {},
   "outputs": [
    {
     "data": {
      "image/png": "[encoded data removed]",
      "text/plain": [
       "<Figure size 432x288 with 1 Axes>"
      ]
     },
     "metadata": {
      "needs_background": "light"
     },
     "output_type": "display_data"
    }
   ],
   "source": [
    "plt.scatter(y=hist[0],x=hist[1][1:])\n",
    "plt.title(\"Degree Distribution of BA Model (Linear)\")\n",
    "plt.ylabel(\"Number of Nodes\")\n",
    "plt.xlabel(\"Degree\")\n",
    "plt.show()"
   ]
  },
  {
   "cell_type": "code",
   "execution_count": 57,
   "metadata": {},
   "outputs": [],
   "source": [
    "def log(x):\n",
    "    if x==0:\n",
    "        return 0\n",
    "    return math.log(x)"
   ]
  },
  {
   "cell_type": "code",
   "execution_count": 58,
   "metadata": {},
   "outputs": [
    {
     "data": {
      "image/png": "[encoded data removed]",
      "text/plain": [
       "<Figure size 432x288 with 1 Axes>"
      ]
     },
     "metadata": {
      "needs_background": "light"
     },
     "output_type": "display_data"
    }
   ],
   "source": [
    "plt.scatter(y=[log(x) for x in hist[0]],x=[log(i) for i in hist[1][1:]])\n",
    "plt.title(\"Degree Distribution of BA Model (Log)\")\n",
    "plt.ylabel(\"Log(number of nodes)\")\n",
    "plt.xlabel(\"Log(degree)\")\n",
    "plt.show()"
   ]
  },
  {
   "cell_type": "markdown",
   "metadata": {},
   "source": [
    "## Part 5: Power-laws and the friendship paradox"
   ]
  },
  {
   "cell_type": "markdown",
   "metadata": {},
   "source": [
    "### 5.1 Next step is to explore the friendship paradox"
   ]
  },
  {
   "cell_type": "markdown",
   "metadata": {},
   "source": [
    "#### Pick a node _i_ at random (e.g. use `random.choice`). Find its degree"
   ]
  },
  {
   "cell_type": "code",
   "execution_count": 59,
   "metadata": {},
   "outputs": [
    {
     "name": "stdout",
     "output_type": "stream",
     "text": [
      "The chosen random node is 914\n",
      "Its degree is 1\n"
     ]
    }
   ],
   "source": [
    "node_random=random.choice(list(G.nodes))\n",
    "print(\"The chosen random node is \" + str(node_random))\n",
    "print(\"Its degree is {}\".format(G.degree(node_random)))"
   ]
  },
  {
   "cell_type": "markdown",
   "metadata": {},
   "source": [
    "#### Find _i_'s neighbors and calculate their average degree."
   ]
  },
  {
   "cell_type": "code",
   "execution_count": 60,
   "metadata": {},
   "outputs": [],
   "source": [
    "neighbors = list(G.neighbors(n=node_random))"
   ]
  },
  {
   "cell_type": "code",
   "execution_count": 61,
   "metadata": {},
   "outputs": [
    {
     "name": "stdout",
     "output_type": "stream",
     "text": [
      "The average degree of its neighbor(s) is 3.0\n"
     ]
    }
   ],
   "source": [
    "neighbor_degree=[G.degree(x) for x in neighbors]\n",
    "print(\"The average degree of its neighbor(s) is {}\".format(\n",
    "    sum(neighbor_degree)/len(neighbor_degree)))"
   ]
  },
  {
   "cell_type": "markdown",
   "metadata": {},
   "source": [
    "#### Compare the two numbers to check if it's true that _i_'s friends (on average) have more friends than _i_."
   ]
  },
  {
   "cell_type": "code",
   "execution_count": 62,
   "metadata": {},
   "outputs": [
    {
     "data": {
      "text/plain": [
       "True"
      ]
     },
     "execution_count": 62,
     "metadata": {},
     "output_type": "execute_result"
    }
   ],
   "source": [
    "sum(neighbor_degree)/len(neighbor_degree) > G.degree(node_random)"
   ]
  },
  {
   "cell_type": "markdown",
   "metadata": {},
   "source": [
    "Its true that i's friends on average have more friends than i."
   ]
  },
  {
   "cell_type": "markdown",
   "metadata": {},
   "source": [
    "### Do this 1000 times. How many out of those 1000 times is the friendship paradox true?"
   ]
  },
  {
   "cell_type": "code",
   "execution_count": 63,
   "metadata": {},
   "outputs": [
    {
     "name": "stdout",
     "output_type": "stream",
     "text": [
      "Friend paradox is true for 873 out of 1000 times\n"
     ]
    }
   ],
   "source": [
    "count_true=0\n",
    "count_false=0\n",
    "for i in range(1000):\n",
    "    node_random=random.choice(list(G.nodes))\n",
    "    num1=G.degree(node_random)\n",
    "    total=0\n",
    "    count=0\n",
    "    for neighbor in G.neighbors(n=node_random):\n",
    "        count+=1\n",
    "        total+=G.degree(neighbor)\n",
    "    if total/count > num1:\n",
    "        count_true+=1\n",
    "    else:\n",
    "        count_false+=1\n",
    "print(\"Friend paradox is true for {} out of 1000 times\".format(count_true))"
   ]
  },
  {
   "cell_type": "markdown",
   "metadata": {},
   "source": [
    "### 5.2 Finally, we'll build a network of same size and degree, using the growth mechanism without the preferential attachment. "
   ]
  },
  {
   "cell_type": "code",
   "execution_count": 64,
   "metadata": {},
   "outputs": [],
   "source": [
    "G2=nx.Graph()\n",
    "G2.add_nodes_from([0,1])\n",
    "G2.add_edges_from([[0,1],])\n",
    "for i in range(2,5000):\n",
    "    node=random.choice(list(G2.nodes)) ## without preferential attachment\n",
    "    G2.add_node(i)\n",
    "    G2.add_edge(i,node)"
   ]
  },
  {
   "cell_type": "markdown",
   "metadata": {
    "collapsed": true
   },
   "source": [
    "#### Compare to the ER network of same size and same $p$. What are the differences? Explain in your own words. *Hint*: To get started, take a look at the degree distribution, and study the number of connected components."
   ]
  },
  {
   "cell_type": "code",
   "execution_count": 65,
   "metadata": {},
   "outputs": [],
   "source": [
    "N = len(G2) #num of nodes\n",
    "k = G.number_of_edges()*2/N #average degree\n",
    "p = k/(N-1)"
   ]
  },
  {
   "cell_type": "code",
   "execution_count": 66,
   "metadata": {},
   "outputs": [],
   "source": [
    "G3=nx.erdos_renyi_graph(N, p)"
   ]
  },
  {
   "cell_type": "code",
   "execution_count": 67,
   "metadata": {},
   "outputs": [
    {
     "data": {
      "image/png": "[encoded data removed]",
      "text/plain": [
       "<Figure size 432x288 with 1 Axes>"
      ]
     },
     "metadata": {
      "needs_background": "light"
     },
     "output_type": "display_data"
    }
   ],
   "source": [
    "G2_his=np.histogram(list(map(lambda x : x[1], list(G2.degree))))\n",
    "plt.scatter(y=G2_his[0],x=G2_his[1][1:])\n",
    "plt.title(\"Degree Distribution of BA Network w/o Preferential Attachment\")\n",
    "plt.ylabel(\"Frequency\")\n",
    "plt.xlabel(\"Degree\")\n",
    "plt.show()"
   ]
  },
  {
   "cell_type": "markdown",
   "metadata": {},
   "source": [
    "#### Observation 1: BA without PA (preferential attachment) still follows a power-laws distribution."
   ]
  },
  {
   "cell_type": "code",
   "execution_count": null,
   "metadata": {},
   "outputs": [],
   "source": []
  },
  {
   "cell_type": "code",
   "execution_count": 68,
   "metadata": {},
   "outputs": [
    {
     "data": {
      "image/png": "[encoded data removed]",
      "text/plain": [
       "<Figure size 432x288 with 1 Axes>"
      ]
     },
     "metadata": {
      "needs_background": "light"
     },
     "output_type": "display_data"
    }
   ],
   "source": [
    "G3_his=np.histogram(list(map(lambda x : x[1], list(G3.degree))))\n",
    "plt.scatter(y=G3_his[0],x=G3_his[1][1:])\n",
    "plt.title(\"Degree Distribution of ER Network\")\n",
    "plt.ylabel(\"Frequency\")\n",
    "plt.xlabel(\"Degree\")\n",
    "plt.show()"
   ]
  },
  {
   "cell_type": "markdown",
   "metadata": {},
   "source": [
    "#### Observation 2: Degree Distribution of the ER network seems to follows a poisson distribution --> one peak."
   ]
  },
  {
   "cell_type": "code",
   "execution_count": null,
   "metadata": {},
   "outputs": [],
   "source": []
  },
  {
   "cell_type": "code",
   "execution_count": 69,
   "metadata": {},
   "outputs": [
    {
     "name": "stdout",
     "output_type": "stream",
     "text": [
      "1\n",
      "866\n"
     ]
    }
   ],
   "source": [
    "print(nx.number_connected_components(G2))\n",
    "print(nx.number_connected_components(G3))"
   ]
  },
  {
   "cell_type": "markdown",
   "metadata": {},
   "source": [
    "#### Observation 3: BA without PA is a connect graph with only one component while ER has many components (799 in this case)"
   ]
  }
 ],
 "metadata": {
  "anaconda-cloud": {},
  "kernelspec": {
   "display_name": "Python 3",
   "language": "python",
   "name": "python3"
  },
  "language_info": {
   "codemirror_mode": {
    "name": "ipython",
    "version": 3
   },
   "file_extension": ".py",
   "mimetype": "text/x-python",
   "name": "python",
   "nbconvert_exporter": "python",
   "pygments_lexer": "ipython3",
   "version": "3.7.3"
  }
 },
 "nbformat": 4,
 "nbformat_minor": 1
}
