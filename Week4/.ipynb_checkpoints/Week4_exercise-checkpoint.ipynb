{
 "cells": [
  {
   "cell_type": "markdown",
   "metadata": {},
   "source": [
    "# Preclude Regular Expresson"
   ]
  },
  {
   "cell_type": "code",
   "execution_count": 34,
   "metadata": {},
   "outputs": [],
   "source": [
    "import re\n",
    "import requests"
   ]
  },
  {
   "cell_type": "code",
   "execution_count": 11,
   "metadata": {},
   "outputs": [],
   "source": [
    "response=req.get(\"https://raw.githubusercontent.com/suneman/socialgraphs2019/master/files/test.txt\")"
   ]
  },
  {
   "cell_type": "code",
   "execution_count": 27,
   "metadata": {},
   "outputs": [],
   "source": [
    "string=response.text"
   ]
  },
  {
   "cell_type": "code",
   "execution_count": 29,
   "metadata": {},
   "outputs": [
    {
     "data": {
      "text/plain": [
       "['1234', '9999', '2345']"
      ]
     },
     "execution_count": 29,
     "metadata": {},
     "output_type": "execute_result"
    }
   ],
   "source": [
    "re.findall(r'\\d\\d\\d\\d',string)"
   ]
  },
  {
   "cell_type": "code",
   "execution_count": 30,
   "metadata": {},
   "outputs": [
    {
     "data": {
      "text/plain": [
       "['superp', 'supert', 'superb']"
      ]
     },
     "execution_count": 30,
     "metadata": {},
     "output_type": "execute_result"
    }
   ],
   "source": [
    "re.findall(r'super[\\w*]',string)"
   ]
  },
  {
   "cell_type": "code",
   "execution_count": 37,
   "metadata": {},
   "outputs": [
    {
     "data": {
      "text/plain": [
       "[]"
      ]
     },
     "execution_count": 37,
     "metadata": {},
     "output_type": "execute_result"
    }
   ],
   "source": [
    "re.findall(r'\\[[\\w*]]',string)"
   ]
  },
  {
   "cell_type": "markdown",
   "metadata": {},
   "source": [
    "# part A"
   ]
  },
  {
   "cell_type": "code",
   "execution_count": 7,
   "metadata": {},
   "outputs": [],
   "source": [
    "import pandas as pd\n",
    "import matplotlib.pyplot as plt\n",
    "%matplotlib inline\n",
    "from collections import Counter\n",
    "import numpy as np"
   ]
  },
  {
   "cell_type": "code",
   "execution_count": 8,
   "metadata": {},
   "outputs": [],
   "source": [
    "df1=pd.read_csv(\"/Users/yuesongyang/Desktop/Social_graphs/files/data_US_congress/H113.csv\")\n",
    "df2=pd.read_csv(\"/Users/yuesongyang/Desktop/Social_graphs/files/data_US_congress/H114.csv\")\n",
    "df3=pd.read_csv(\"/Users/yuesongyang/Desktop/Social_graphs/files/data_US_congress/H115.csv\")"
   ]
  },
  {
   "cell_type": "code",
   "execution_count": 9,
   "metadata": {},
   "outputs": [],
   "source": [
    "df1['time'] = 113\n",
    "df2['time'] = 114\n",
    "df3['time'] = 115"
   ]
  },
  {
   "cell_type": "code",
   "execution_count": 10,
   "metadata": {},
   "outputs": [],
   "source": [
    "df= pd.concat([df1,df2,df3]).reset_index(drop=True)"
   ]
  },
  {
   "cell_type": "code",
   "execution_count": 11,
   "metadata": {},
   "outputs": [
    {
     "data": {
      "text/html": [
       "<div>\n",
       "<style scoped>\n",
       "    .dataframe tbody tr th:only-of-type {\n",
       "        vertical-align: middle;\n",
       "    }\n",
       "\n",
       "    .dataframe tbody tr th {\n",
       "        vertical-align: top;\n",
       "    }\n",
       "\n",
       "    .dataframe thead th {\n",
       "        text-align: right;\n",
       "    }\n",
       "</style>\n",
       "<table border=\"1\" class=\"dataframe\">\n",
       "  <thead>\n",
       "    <tr style=\"text-align: right;\">\n",
       "      <th></th>\n",
       "      <th>WikiPageName</th>\n",
       "      <th>Party</th>\n",
       "      <th>State</th>\n",
       "      <th>time</th>\n",
       "    </tr>\n",
       "  </thead>\n",
       "  <tbody>\n",
       "    <tr>\n",
       "      <th>0</th>\n",
       "      <td>John_Dingell</td>\n",
       "      <td>Democratic</td>\n",
       "      <td>Michigan</td>\n",
       "      <td>113</td>\n",
       "    </tr>\n",
       "    <tr>\n",
       "      <th>1</th>\n",
       "      <td>John_Conyers</td>\n",
       "      <td>Democratic</td>\n",
       "      <td>Michigan</td>\n",
       "      <td>113</td>\n",
       "    </tr>\n",
       "    <tr>\n",
       "      <th>2</th>\n",
       "      <td>Charles_Rangel</td>\n",
       "      <td>Democratic</td>\n",
       "      <td>New York</td>\n",
       "      <td>113</td>\n",
       "    </tr>\n",
       "    <tr>\n",
       "      <th>3</th>\n",
       "      <td>Bill_Young</td>\n",
       "      <td>Republican</td>\n",
       "      <td>Florida</td>\n",
       "      <td>113</td>\n",
       "    </tr>\n",
       "    <tr>\n",
       "      <th>4</th>\n",
       "      <td>Don_Young</td>\n",
       "      <td>Republican</td>\n",
       "      <td>Alaska</td>\n",
       "      <td>113</td>\n",
       "    </tr>\n",
       "  </tbody>\n",
       "</table>\n",
       "</div>"
      ],
      "text/plain": [
       "     WikiPageName       Party     State  time\n",
       "0    John_Dingell  Democratic  Michigan   113\n",
       "1    John_Conyers  Democratic  Michigan   113\n",
       "2  Charles_Rangel  Democratic  New York   113\n",
       "3      Bill_Young  Republican   Florida   113\n",
       "4       Don_Young  Republican    Alaska   113"
      ]
     },
     "execution_count": 11,
     "metadata": {},
     "output_type": "execute_result"
    }
   ],
   "source": [
    "df.head()"
   ]
  },
  {
   "cell_type": "code",
   "execution_count": 12,
   "metadata": {},
   "outputs": [
    {
     "data": {
      "text/plain": [
       "[445, 444, 442]"
      ]
     },
     "execution_count": 12,
     "metadata": {},
     "output_type": "execute_result"
    }
   ],
   "source": [
    "list(df.time.value_counts())"
   ]
  },
  {
   "cell_type": "code",
   "execution_count": 13,
   "metadata": {},
   "outputs": [
    {
     "data": {
      "image/png": "[encoded data removed]",
      "text/plain": [
       "<Figure size 432x288 with 1 Axes>"
      ]
     },
     "metadata": {
      "needs_background": "light"
     },
     "output_type": "display_data"
    }
   ],
   "source": [
    "plt.plot([113,114,115],list(df.time.value_counts()),'-o')\n",
    "plt.show()"
   ]
  },
  {
   "cell_type": "code",
   "execution_count": 14,
   "metadata": {},
   "outputs": [],
   "source": [
    "count=df.groupby(\"WikiPageName\").count().time"
   ]
  },
  {
   "cell_type": "code",
   "execution_count": 15,
   "metadata": {},
   "outputs": [],
   "source": [
    "key=Counter(count).keys()\n",
    "value=Counter(count).values()"
   ]
  },
  {
   "cell_type": "code",
   "execution_count": 16,
   "metadata": {},
   "outputs": [
    {
     "data": {
      "text/plain": [
       "[(2, 114), (3, 324), (1, 131)]"
      ]
     },
     "execution_count": 16,
     "metadata": {},
     "output_type": "execute_result"
    }
   ],
   "source": [
    "lst=list(Counter(count).items())\n",
    "lst"
   ]
  },
  {
   "cell_type": "code",
   "execution_count": 17,
   "metadata": {},
   "outputs": [
    {
     "data": {
      "text/plain": [
       "[(1, 131), (2, 114), (3, 324)]"
      ]
     },
     "execution_count": 17,
     "metadata": {},
     "output_type": "execute_result"
    }
   ],
   "source": [
    "lst.sort(key=lambda x : x[0])\n",
    "lst"
   ]
  },
  {
   "cell_type": "code",
   "execution_count": 18,
   "metadata": {},
   "outputs": [
    {
     "data": {
      "text/plain": [
       "[131, 114, 324]"
      ]
     },
     "execution_count": 18,
     "metadata": {},
     "output_type": "execute_result"
    }
   ],
   "source": [
    "[i[1] for i in lst]"
   ]
  },
  {
   "cell_type": "code",
   "execution_count": 19,
   "metadata": {},
   "outputs": [
    {
     "data": {
      "image/png": "[encoded data removed]",
      "text/plain": [
       "<Figure size 432x288 with 1 Axes>"
      ]
     },
     "metadata": {
      "needs_background": "light"
     },
     "output_type": "display_data"
    }
   ],
   "source": [
    "plt.hist(count, bins=[1,2,3,4])\n",
    "plt.show()"
   ]
  },
  {
   "cell_type": "code",
   "execution_count": 20,
   "metadata": {},
   "outputs": [
    {
     "data": {
      "text/plain": [
       "State\n",
       "Alabama            22\n",
       "Alaska              3\n",
       "Arizona            28\n",
       "Arkansas           12\n",
       "California        160\n",
       "Colorado           21\n",
       "Connecticut        15\n",
       "Delaware            3\n",
       "Florida            83\n",
       "Georgia            43\n",
       "Hawaii              7\n",
       "Idaho               6\n",
       "Illinois           55\n",
       "Indiana            27\n",
       "Iowa               12\n",
       "Kansas             13\n",
       "Kentucky           19\n",
       "Louisiana          19\n",
       "Maine               6\n",
       "Maryland           24\n",
       "Massachusetts      28\n",
       "Michigan           42\n",
       "Minnesota          24\n",
       "Mississippi        13\n",
       "Missouri           25\n",
       "Montana             4\n",
       "Nebraska            9\n",
       "Nevada             12\n",
       "New Hampshire       6\n",
       "New Jersey         37\n",
       "New Mexico          9\n",
       "New York           82\n",
       "North Carolina     40\n",
       "North Dakota        3\n",
       "Ohio               50\n",
       "Oklahoma           15\n",
       "Oregon             15\n",
       "Pennsylvania       56\n",
       "Rhode Island        6\n",
       "South Carolina     22\n",
       "South Dakota        3\n",
       "Tennessee          27\n",
       "Texas             109\n",
       "Utah               13\n",
       "Vermont             3\n",
       "Virginia           34\n",
       "Washington         30\n",
       "West Virginia       9\n",
       "Wisconsin          24\n",
       "Wyoming             3\n",
       "dtype: int64"
      ]
     },
     "execution_count": 20,
     "metadata": {},
     "output_type": "execute_result"
    }
   ],
   "source": [
    "state=df.groupby(\"State\").size()\n",
    "state"
   ]
  },
  {
   "cell_type": "code",
   "execution_count": 21,
   "metadata": {},
   "outputs": [
    {
     "data": {
      "text/plain": [
       "State\n",
       "Wyoming             3\n",
       "Alaska              3\n",
       "Vermont             3\n",
       "North Dakota        3\n",
       "Delaware            3\n",
       "South Dakota        3\n",
       "Montana             4\n",
       "New Hampshire       6\n",
       "Maine               6\n",
       "Idaho               6\n",
       "Rhode Island        6\n",
       "Hawaii              7\n",
       "West Virginia       9\n",
       "Nebraska            9\n",
       "New Mexico          9\n",
       "Nevada             12\n",
       "Iowa               12\n",
       "Arkansas           12\n",
       "Mississippi        13\n",
       "Utah               13\n",
       "Kansas             13\n",
       "Oklahoma           15\n",
       "Connecticut        15\n",
       "Oregon             15\n",
       "Louisiana          19\n",
       "Kentucky           19\n",
       "Colorado           21\n",
       "South Carolina     22\n",
       "Alabama            22\n",
       "Minnesota          24\n",
       "Maryland           24\n",
       "Wisconsin          24\n",
       "Missouri           25\n",
       "Tennessee          27\n",
       "Indiana            27\n",
       "Arizona            28\n",
       "Massachusetts      28\n",
       "Washington         30\n",
       "Virginia           34\n",
       "New Jersey         37\n",
       "North Carolina     40\n",
       "Michigan           42\n",
       "Georgia            43\n",
       "Ohio               50\n",
       "Illinois           55\n",
       "Pennsylvania       56\n",
       "New York           82\n",
       "Florida            83\n",
       "Texas             109\n",
       "California        160\n",
       "dtype: int64"
      ]
     },
     "execution_count": 21,
     "metadata": {},
     "output_type": "execute_result"
    }
   ],
   "source": [
    "state.sort_values()"
   ]
  },
  {
   "cell_type": "code",
   "execution_count": 22,
   "metadata": {},
   "outputs": [
    {
     "data": {
      "image/png": "[encoded data removed]",
      "text/plain": [
       "<Figure size 432x288 with 1 Axes>"
      ]
     },
     "metadata": {
      "needs_background": "light"
     },
     "output_type": "display_data"
    }
   ],
   "source": [
    "plt.hist(state)\n",
    "plt.show()"
   ]
  },
  {
   "cell_type": "code",
   "execution_count": 23,
   "metadata": {},
   "outputs": [],
   "source": [
    "compo=df.groupby(['time','Party']).count()"
   ]
  },
  {
   "cell_type": "code",
   "execution_count": 24,
   "metadata": {},
   "outputs": [
    {
     "data": {
      "text/html": [
       "<div>\n",
       "<style scoped>\n",
       "    .dataframe tbody tr th:only-of-type {\n",
       "        vertical-align: middle;\n",
       "    }\n",
       "\n",
       "    .dataframe tbody tr th {\n",
       "        vertical-align: top;\n",
       "    }\n",
       "\n",
       "    .dataframe thead th {\n",
       "        text-align: right;\n",
       "    }\n",
       "</style>\n",
       "<table border=\"1\" class=\"dataframe\">\n",
       "  <thead>\n",
       "    <tr style=\"text-align: right;\">\n",
       "      <th></th>\n",
       "      <th></th>\n",
       "      <th>WikiPageName</th>\n",
       "      <th>State</th>\n",
       "    </tr>\n",
       "    <tr>\n",
       "      <th>time</th>\n",
       "      <th>Party</th>\n",
       "      <th></th>\n",
       "      <th></th>\n",
       "    </tr>\n",
       "  </thead>\n",
       "  <tbody>\n",
       "    <tr>\n",
       "      <th rowspan=\"2\" valign=\"top\">113</th>\n",
       "      <th>Democratic</th>\n",
       "      <td>204</td>\n",
       "      <td>204</td>\n",
       "    </tr>\n",
       "    <tr>\n",
       "      <th>Republican</th>\n",
       "      <td>240</td>\n",
       "      <td>240</td>\n",
       "    </tr>\n",
       "    <tr>\n",
       "      <th rowspan=\"2\" valign=\"top\">114</th>\n",
       "      <th>Democratic</th>\n",
       "      <td>190</td>\n",
       "      <td>190</td>\n",
       "    </tr>\n",
       "    <tr>\n",
       "      <th>Republican</th>\n",
       "      <td>252</td>\n",
       "      <td>252</td>\n",
       "    </tr>\n",
       "    <tr>\n",
       "      <th rowspan=\"2\" valign=\"top\">115</th>\n",
       "      <th>Democratic</th>\n",
       "      <td>196</td>\n",
       "      <td>196</td>\n",
       "    </tr>\n",
       "    <tr>\n",
       "      <th>Republican</th>\n",
       "      <td>249</td>\n",
       "      <td>249</td>\n",
       "    </tr>\n",
       "  </tbody>\n",
       "</table>\n",
       "</div>"
      ],
      "text/plain": [
       "                 WikiPageName  State\n",
       "time Party                          \n",
       "113  Democratic           204    204\n",
       "     Republican           240    240\n",
       "114  Democratic           190    190\n",
       "     Republican           252    252\n",
       "115  Democratic           196    196\n",
       "     Republican           249    249"
      ]
     },
     "execution_count": 24,
     "metadata": {},
     "output_type": "execute_result"
    }
   ],
   "source": [
    "compo"
   ]
  },
  {
   "cell_type": "code",
   "execution_count": 25,
   "metadata": {},
   "outputs": [
    {
     "data": {
      "image/png": "[encoded data removed]",
      "text/plain": [
       "<Figure size 432x288 with 1 Axes>"
      ]
     },
     "metadata": {
      "needs_background": "light"
     },
     "output_type": "display_data"
    }
   ],
   "source": [
    "ypos=np.array([113,114,115])\n",
    "plt.bar(ypos-0.1, [204,190,196], width=0.2, color='red')\n",
    "plt.bar(ypos+0.1, [240,252,249], width=0.2, color='green')\n",
    "plt.show()"
   ]
  },
  {
   "cell_type": "markdown",
   "metadata": {},
   "source": [
    "# Part B"
   ]
  },
  {
   "cell_type": "code",
   "execution_count": 45,
   "metadata": {},
   "outputs": [],
   "source": [
    "import urllib3\n",
    "import json\n",
    "import pickle"
   ]
  },
  {
   "cell_type": "code",
   "execution_count": 28,
   "metadata": {},
   "outputs": [],
   "source": [
    "name_list=df1.WikiPageName.drop_duplicates().tolist()"
   ]
  },
  {
   "cell_type": "code",
   "execution_count": 42,
   "metadata": {},
   "outputs": [],
   "source": [
    "baseurl=\"http://en.wikipedia.org/w/api.php/?\""
   ]
  },
  {
   "cell_type": "code",
   "execution_count": 215,
   "metadata": {},
   "outputs": [],
   "source": [
    "name_list=df1.WikiPageName.drop_duplicates().tolist()\n",
    "def getPara(name):\n",
    "    return {\n",
    "        \"action\": \"query\",\n",
    "        \"prop\": \"revisions\",\n",
    "        \"titles\": name,\n",
    "        \"rvprop\": \"timestamp|content\",\n",
    "        \"format\": \"json\",\n",
    "        \"rvdir\" : \"older\",\n",
    "        \"rvlimit\" : \"1\",\n",
    "        'rvstart' : \"2015-01-01T00:00:00Z\"\n",
    "    }\n",
    "\n",
    "def saveData(name):\n",
    "    baseurl = \"http://en.wikipedia.org/w/api.php/?\"\n",
    "    reponse=requests.get(url=baseurl, params=getPara(name))\n",
    "    data=reponse.json()['query']\n",
    "    filename=\"/Users/yuesongyang/Desktop/Graph_exercise/113/\" + name+\".pickle\"\n",
    "    pickle.dump(data, open( filename, \"wb\" ) )\n",
    "    \n",
    "for name in name_list:\n",
    "    saveData(name)"
   ]
  },
  {
   "cell_type": "code",
   "execution_count": 216,
   "metadata": {},
   "outputs": [],
   "source": [
    "name_list114=df2.WikiPageName.drop_duplicates().tolist()\n",
    "def getPara114(name):\n",
    "    return {\n",
    "        \"action\": \"query\",\n",
    "        \"prop\": \"revisions\",\n",
    "        \"titles\": name,\n",
    "        \"rvprop\": \"timestamp|content\",\n",
    "        \"format\": \"json\",\n",
    "        \"rvdir\" : \"older\",\n",
    "        \"rvlimit\" : \"1\",\n",
    "        'rvstart' : \"2017-01-01T00:00:00Z\"\n",
    "    }\n",
    "\n",
    "def saveData(name):\n",
    "    baseurl = \"http://en.wikipedia.org/w/api.php/?\"\n",
    "    reponse=requests.get(url=baseurl, params=getPara114(name))\n",
    "    data=reponse.json()['query']\n",
    "    filename=\"/Users/yuesongyang/Desktop/Graph_exercise/114/\" + name+\".pickle\"\n",
    "    pickle.dump(data, open( filename, \"wb\" ) )\n",
    "    \n",
    "for name in name_list114:\n",
    "    saveData(name)"
   ]
  },
  {
   "cell_type": "code",
   "execution_count": 217,
   "metadata": {},
   "outputs": [],
   "source": [
    "name_list115=df3.WikiPageName.drop_duplicates().tolist()\n",
    "def getPara115(name):\n",
    "    return {\n",
    "        \"action\": \"query\",\n",
    "        \"prop\": \"revisions\",\n",
    "        \"titles\": name,\n",
    "        \"rvprop\": \"timestamp|content\",\n",
    "        \"format\": \"json\",\n",
    "        \"rvdir\" : \"older\",\n",
    "        \"rvlimit\" : \"1\",\n",
    "        'rvstart' : \"2019-01-01T00:00:00Z\"\n",
    "    }\n",
    "\n",
    "def saveData(name):\n",
    "    baseurl = \"http://en.wikipedia.org/w/api.php/?\"\n",
    "    reponse=requests.get(url=baseurl, params=getPara115(name))\n",
    "    data=reponse.json()['query']\n",
    "    filename=\"/Users/yuesongyang/Desktop/Graph_exercise/115/\" + name+\".pickle\"\n",
    "    pickle.dump(data, open( filename, \"wb\" ) )\n",
    "    \n",
    "for name in name_list115:\n",
    "    saveData(name)"
   ]
  },
  {
   "cell_type": "markdown",
   "metadata": {},
   "source": [
    "# Part C"
   ]
  },
  {
   "cell_type": "code",
   "execution_count": 255,
   "metadata": {},
   "outputs": [],
   "source": [
    "import re\n",
    "import networkx as nx\n",
    "import urllib"
   ]
  },
  {
   "cell_type": "markdown",
   "metadata": {},
   "source": [
    "## 113 congress"
   ]
  },
  {
   "cell_type": "code",
   "execution_count": 295,
   "metadata": {},
   "outputs": [],
   "source": [
    "names=df1.WikiPageName.tolist()\n",
    "parties=df1.Party.tolist()\n",
    "states=df1.State.tolist()\n",
    "# wiki=\"https://en.wikipedia.org/wiki/\"\n",
    "# name_links=[wiki+name for name in names]\n",
    "\n",
    "G=nx.DiGraph()\n",
    "for i in range(len(names)):\n",
    "    G.add_node(names[i], party = parties[i], state = states[i])"
   ]
  },
  {
   "cell_type": "code",
   "execution_count": 296,
   "metadata": {},
   "outputs": [],
   "source": [
    "def getString(name):\n",
    "    file = pickle.load(\n",
    "        open( \"/Users/yuesongyang/Desktop/Graph_exercise/113/\" + name + \".pickle\", \n",
    "             \"rb\"))\n",
    "    try:\n",
    "        res=file['pages'][[str(i) for i in file['pages'].keys()][0]]['revisions'][0]['*']\n",
    "        return res\n",
    "    except:\n",
    "        print(name + \" data not found\")\n",
    "        return \"\"\n",
    "    \n",
    "def getLinks(String):\n",
    "    return re.findall(\"\\[\\[(.*?)\\]\\]\",String)\n",
    "\n",
    "def parseLink(links):\n",
    "    res=[]\n",
    "    for link in links:\n",
    "        if '|' in link:\n",
    "            index=link.index('|')\n",
    "            res.append(link[:index])\n",
    "            res.append(link[index+1:])\n",
    "        else:\n",
    "            res.append(link)\n",
    "    return res\n",
    "\n",
    "def pipe(target,Graph):\n",
    "    String=getString(target)\n",
    "    links=getLinks(String)\n",
    "    parsedLinks=parseLink(links)\n",
    "    for link in parsedLinks:\n",
    "#         url = \"https://en.wikipedia.org/wiki/\" + link\n",
    "#         result = requests.get(url)\n",
    "        link_underscore=link.replace(\" \",\"_\")\n",
    "        if link_underscore in names:\n",
    "            Graph.add_edge(target , link_underscore)"
   ]
  },
  {
   "cell_type": "code",
   "execution_count": 297,
   "metadata": {},
   "outputs": [
    {
     "name": "stdout",
     "output_type": "stream",
     "text": [
      "Jerrold_Nadler data not found\n",
      "Michael_F._Doyle data not found\n",
      "Tim_Ryan_(politician) data not found\n",
      "Joaquín_Castro data not found\n"
     ]
    }
   ],
   "source": [
    "for target in names:\n",
    "    pipe(target,G)"
   ]
  },
  {
   "cell_type": "code",
   "execution_count": 299,
   "metadata": {},
   "outputs": [
    {
     "data": {
      "image/png": "[encoded data removed]",
      "text/plain": [
       "<Figure size 432x288 with 1 Axes>"
      ]
     },
     "metadata": {},
     "output_type": "display_data"
    }
   ],
   "source": [
    "nx.draw_networkx(G,node_size=10, font_size =10, with_labels=False)"
   ]
  },
  {
   "cell_type": "markdown",
   "metadata": {},
   "source": [
    "## 114 congress"
   ]
  },
  {
   "cell_type": "code",
   "execution_count": 306,
   "metadata": {},
   "outputs": [],
   "source": [
    "names114=df2.WikiPageName.tolist()\n",
    "parties114=df2.Party.tolist()\n",
    "states114=df2.State.tolist()\n",
    "# wiki=\"https://en.wikipedia.org/wiki/\"\n",
    "# name_links=[wiki+name for name in names]\n",
    "\n",
    "G114=nx.DiGraph()\n",
    "for i in range(len(names114)):\n",
    "    G114.add_node(names114[i], party = parties114[i], state = states114[i])"
   ]
  },
  {
   "cell_type": "code",
   "execution_count": 307,
   "metadata": {},
   "outputs": [],
   "source": [
    "def getString(name):\n",
    "    file = pickle.load(\n",
    "        open( \"/Users/yuesongyang/Desktop/Graph_exercise/114/\" + name + \".pickle\", \n",
    "             \"rb\"))\n",
    "    try:\n",
    "        res=file['pages'][[str(i) for i in file['pages'].keys()][0]]['revisions'][0]['*']\n",
    "        return res\n",
    "    except:\n",
    "        print(name + \" data not found\")\n",
    "        return \"\"\n",
    "    \n",
    "def getLinks(String):\n",
    "    return re.findall(\"\\[\\[(.*?)\\]\\]\",String)\n",
    "\n",
    "def parseLink(links):\n",
    "    res=[]\n",
    "    for link in links:\n",
    "        if '|' in link:\n",
    "            index=link.index('|')\n",
    "            res.append(link[:index])\n",
    "            res.append(link[index+1:])\n",
    "        else:\n",
    "            res.append(link)\n",
    "    return res\n",
    "\n",
    "def pipe(target,Graph):\n",
    "    String=getString(target)\n",
    "    links=getLinks(String)\n",
    "    parsedLinks=parseLink(links)\n",
    "    for link in parsedLinks:\n",
    "#         url = \"https://en.wikipedia.org/wiki/\" + link\n",
    "#         result = requests.get(url)\n",
    "        link_underscore=link.replace(\" \",\"_\")\n",
    "        if link_underscore in names114:\n",
    "            Graph.add_edge(target , link_underscore)"
   ]
  },
  {
   "cell_type": "code",
   "execution_count": 308,
   "metadata": {},
   "outputs": [
    {
     "name": "stdout",
     "output_type": "stream",
     "text": [
      "Jerrold_Nadler data not found\n",
      "Michael_F._Doyle data not found\n",
      "Tim_Ryan_(politician) data not found\n",
      "Joaquín_Castro data not found\n"
     ]
    }
   ],
   "source": [
    "for target in names114:\n",
    "    pipe(target,G114)"
   ]
  },
  {
   "cell_type": "code",
   "execution_count": 309,
   "metadata": {},
   "outputs": [
    {
     "data": {
      "image/png": "[encoded data removed]",
      "text/plain": [
       "<Figure size 432x288 with 1 Axes>"
      ]
     },
     "metadata": {},
     "output_type": "display_data"
    }
   ],
   "source": [
    "nx.draw_networkx(G114,node_size=10, font_size =10, with_labels=False)"
   ]
  },
  {
   "cell_type": "markdown",
   "metadata": {},
   "source": [
    "## 115 congress"
   ]
  },
  {
   "cell_type": "code",
   "execution_count": 310,
   "metadata": {},
   "outputs": [],
   "source": [
    "names115=df3.WikiPageName.tolist()\n",
    "parties115=df3.Party.tolist()\n",
    "states115=df3.State.tolist()\n",
    "# wiki=\"https://en.wikipedia.org/wiki/\"\n",
    "# name_links=[wiki+name for name in names]\n",
    "\n",
    "G115=nx.DiGraph()\n",
    "for i in range(len(names115)):\n",
    "    G115.add_node(names115[i], party = parties115[i], state = states115[i])"
   ]
  },
  {
   "cell_type": "code",
   "execution_count": 311,
   "metadata": {},
   "outputs": [],
   "source": [
    "def getString(name):\n",
    "    file = pickle.load(\n",
    "        open( \"/Users/yuesongyang/Desktop/Graph_exercise/115/\" + name + \".pickle\", \n",
    "             \"rb\"))\n",
    "    try:\n",
    "        res=file['pages'][[str(i) for i in file['pages'].keys()][0]]['revisions'][0]['*']\n",
    "        return res\n",
    "    except:\n",
    "        print(name + \" data not found\")\n",
    "        return \"\"\n",
    "    \n",
    "def getLinks(String):\n",
    "    return re.findall(\"\\[\\[(.*?)\\]\\]\",String)\n",
    "\n",
    "def parseLink(links):\n",
    "    res=[]\n",
    "    for link in links:\n",
    "        if '|' in link:\n",
    "            index=link.index('|')\n",
    "            res.append(link[:index])\n",
    "            res.append(link[index+1:])\n",
    "        else:\n",
    "            res.append(link)\n",
    "    return res\n",
    "\n",
    "def pipe(target,Graph):\n",
    "    String=getString(target)\n",
    "    links=getLinks(String)\n",
    "    parsedLinks=parseLink(links)\n",
    "    for link in parsedLinks:\n",
    "#         url = \"https://en.wikipedia.org/wiki/\" + link\n",
    "#         result = requests.get(url)\n",
    "        link_underscore=link.replace(\" \",\"_\")\n",
    "        if link_underscore in names115:\n",
    "            Graph.add_edge(target , link_underscore)"
   ]
  },
  {
   "cell_type": "code",
   "execution_count": 312,
   "metadata": {},
   "outputs": [
    {
     "name": "stdout",
     "output_type": "stream",
     "text": [
      "Jerrold_Nadler data not found\n",
      "Michael_F._Doyle data not found\n",
      "Tim_Ryan_(politician) data not found\n",
      "Joaquín_Castro data not found\n"
     ]
    }
   ],
   "source": [
    "for target in names115:\n",
    "    pipe(target,G115)"
   ]
  },
  {
   "cell_type": "code",
   "execution_count": 313,
   "metadata": {},
   "outputs": [
    {
     "data": {
      "image/png": "[encoded data removed]",
      "text/plain": [
       "<Figure size 432x288 with 1 Axes>"
      ]
     },
     "metadata": {},
     "output_type": "display_data"
    }
   ],
   "source": [
    "nx.draw_networkx(G115,node_size=10, font_size =10, with_labels=False)"
   ]
  },
  {
   "cell_type": "markdown",
   "metadata": {},
   "source": [
    "### Exercise"
   ]
  },
  {
   "cell_type": "code",
   "execution_count": 320,
   "metadata": {},
   "outputs": [],
   "source": [
    "import matplotlib.pyplot as plt\n",
    "%matplotlib inline"
   ]
  },
  {
   "cell_type": "code",
   "execution_count": 317,
   "metadata": {},
   "outputs": [
    {
     "data": {
      "text/plain": [
       "444"
      ]
     },
     "execution_count": 317,
     "metadata": {},
     "output_type": "execute_result"
    }
   ],
   "source": [
    "len(G.nodes)"
   ]
  },
  {
   "cell_type": "code",
   "execution_count": 323,
   "metadata": {},
   "outputs": [
    {
     "data": {
      "text/plain": [
       "1625"
      ]
     },
     "execution_count": 323,
     "metadata": {},
     "output_type": "execute_result"
    }
   ],
   "source": [
    "len(G.edges)"
   ]
  },
  {
   "cell_type": "code",
   "execution_count": 329,
   "metadata": {},
   "outputs": [
    {
     "data": {
      "image/png": "[encoded data removed]",
      "text/plain": [
       "<Figure size 432x288 with 1 Axes>"
      ]
     },
     "metadata": {
      "needs_background": "light"
     },
     "output_type": "display_data"
    }
   ],
   "source": [
    "plt.hist([x[1] for x in list(G.in_degree)])\n",
    "plt.show()"
   ]
  },
  {
   "cell_type": "code",
   "execution_count": 330,
   "metadata": {},
   "outputs": [
    {
     "data": {
      "image/png": "[encoded data removed]",
      "text/plain": [
       "<Figure size 432x288 with 1 Axes>"
      ]
     },
     "metadata": {
      "needs_background": "light"
     },
     "output_type": "display_data"
    }
   ],
   "source": [
    "plt.hist([x[1] for x in list(G.out_degree)])\n",
    "plt.show()"
   ]
  },
  {
   "cell_type": "code",
   "execution_count": 340,
   "metadata": {},
   "outputs": [],
   "source": [
    "sorting=sorted(list(G.degree),key=lambda x: x[1],reverse=True)"
   ]
  },
  {
   "cell_type": "code",
   "execution_count": 343,
   "metadata": {},
   "outputs": [
    {
     "data": {
      "text/plain": [
       "('Nancy_Pelosi', 69)"
      ]
     },
     "execution_count": 343,
     "metadata": {},
     "output_type": "execute_result"
    }
   ],
   "source": [
    "sorting[0]"
   ]
  },
  {
   "cell_type": "code",
   "execution_count": null,
   "metadata": {},
   "outputs": [],
   "source": []
  }
 ],
 "metadata": {
  "kernelspec": {
   "display_name": "Python 3",
   "language": "python",
   "name": "python3"
  },
  "language_info": {
   "codemirror_mode": {
    "name": "ipython",
    "version": 3
   },
   "file_extension": ".py",
   "mimetype": "text/x-python",
   "name": "python",
   "nbconvert_exporter": "python",
   "pygments_lexer": "ipython3",
   "version": "3.7.3"
  }
 },
 "nbformat": 4,
 "nbformat_minor": 2
}
